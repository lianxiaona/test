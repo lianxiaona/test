{
 "cells": [
  {
   "cell_type": "markdown",
   "metadata": {},
   "source": [
    "# 选择\n",
    "## 布尔类型、数值和表达式\n",
    "![](../Photo/33.png)\n",
    "- 注意：比较运算符的相等是两个等到，一个等到代表赋值\n",
    "- 在Python中可以用整型0来代表False，其他数字来代表True\n",
    "- 后面还会讲到 is 在判断语句中的用发"
   ]
  },
  {
   "cell_type": "code",
   "execution_count": null,
   "metadata": {},
   "outputs": [],
   "source": [
    "print()"
   ]
  },
  {
   "cell_type": "code",
   "execution_count": 2,
   "metadata": {},
   "outputs": [
    {
     "data": {
      "text/plain": [
       "True"
      ]
     },
     "execution_count": 2,
     "metadata": {},
     "output_type": "execute_result"
    }
   ],
   "source": [
    "True == 1"
   ]
  },
  {
   "cell_type": "code",
   "execution_count": 3,
   "metadata": {},
   "outputs": [
    {
     "data": {
      "text/plain": [
       "False"
      ]
     },
     "execution_count": 3,
     "metadata": {},
     "output_type": "execute_result"
    }
   ],
   "source": [
    "2 == True"
   ]
  },
  {
   "cell_type": "code",
   "execution_count": null,
   "metadata": {},
   "outputs": [],
   "source": [
    "while 1:\n",
    "    print('hahah')"
   ]
  },
  {
   "cell_type": "markdown",
   "metadata": {},
   "source": [
    "## 字符串的比较使用ASCII值"
   ]
  },
  {
   "cell_type": "code",
   "execution_count": 5,
   "metadata": {},
   "outputs": [
    {
     "data": {
      "text/plain": [
       "False"
      ]
     },
     "execution_count": 5,
     "metadata": {},
     "output_type": "execute_result"
    }
   ],
   "source": [
    "'a' > 'b'"
   ]
  },
  {
   "cell_type": "code",
   "execution_count": 6,
   "metadata": {},
   "outputs": [
    {
     "ename": "TypeError",
     "evalue": "'>' not supported between instances of 'str' and 'bool'",
     "output_type": "error",
     "traceback": [
      "\u001b[1;31m---------------------------------------------------------------------------\u001b[0m",
      "\u001b[1;31mTypeError\u001b[0m                                 Traceback (most recent call last)",
      "\u001b[1;32m<ipython-input-6-63a259c6feac>\u001b[0m in \u001b[0;36m<module>\u001b[1;34m()\u001b[0m\n\u001b[1;32m----> 1\u001b[1;33m \u001b[1;34m'a'\u001b[0m \u001b[1;33m>\u001b[0m \u001b[1;32mTrue\u001b[0m\u001b[1;33m\u001b[0m\u001b[0m\n\u001b[0m",
      "\u001b[1;31mTypeError\u001b[0m: '>' not supported between instances of 'str' and 'bool'"
     ]
    }
   ],
   "source": [
    "'a' > True"
   ]
  },
  {
   "cell_type": "code",
   "execution_count": 7,
   "metadata": {},
   "outputs": [
    {
     "data": {
      "text/plain": [
       "True"
      ]
     },
     "execution_count": 7,
     "metadata": {},
     "output_type": "execute_result"
    }
   ],
   "source": [
    "0 < 10 < 100"
   ]
  },
  {
   "cell_type": "code",
   "execution_count": null,
   "metadata": {},
   "outputs": [],
   "source": [
    "90 - A\n",
    "80 - 90 B"
   ]
  },
  {
   "cell_type": "code",
   "execution_count": 5,
   "metadata": {},
   "outputs": [
    {
     "name": "stdout",
     "output_type": "stream",
     "text": [
      "请输入一个数:90\n",
      "B\n"
     ]
    }
   ],
   "source": [
    "i = eval(input('请输入一个数:'))\n",
    "if  i > 90:\n",
    "    print('A')\n",
    "elif 80 <= i <= 90:\n",
    "    print('B')\n",
    "elif 70 <= i <80:\n",
    "    print('C')\n",
    "elif 60<= i <70:\n",
    "    print('D')\n",
    "elif i < 60:\n",
    "    print('不及格')\n"
   ]
  },
  {
   "cell_type": "markdown",
   "metadata": {},
   "source": [
    "## Markdown \n",
    "- https://github.com/younghz/Markdown"
   ]
  },
  {
   "cell_type": "markdown",
   "metadata": {},
   "source": [
    "## EP:\n",
    "- <img src=\"../Photo/34.png\"></img>\n",
    "- 输入一个数字，判断其实奇数还是偶数"
   ]
  },
  {
   "cell_type": "markdown",
   "metadata": {},
   "source": [
    "## 产生随机数字\n",
    "- 函数random.randint(a,b) 可以用来产生一个a和b之间且包括a和b的随机整数"
   ]
  },
  {
   "cell_type": "code",
   "execution_count": 15,
   "metadata": {},
   "outputs": [
    {
     "name": "stdout",
     "output_type": "stream",
     "text": [
      "请输入一个数字：100\n",
      "你输入的数字在范围之内\n"
     ]
    }
   ],
   "source": [
    "#产生一个随机数，你去输入，如果你输入的数大于随机数，那么就告诉你太大了，反之，太小了，一直输入，直到他满意为止\n",
    "import random\n",
    "#import randiant\n",
    "a = 10\n",
    "b = 100\n",
    "c = random.randint(a,b)\n",
    "while true:\n",
    "d = eval(input('请输入一个数字：'))\n",
    "if c > d:\n",
    "    print('你输入的数字太小了')\n",
    "elif  a<= c <= d:\n",
    "    print('你输入的数字在范围之内')\n",
    "elif c < d:\n",
    "    print('你输入的数字太大了')\n"
   ]
  },
  {
   "cell_type": "code",
   "execution_count": 1,
   "metadata": {},
   "outputs": [
    {
     "name": "stdout",
     "output_type": "stream",
     "text": [
      "请输入一个数字：10\n",
      "你输入的数字太小了\n",
      "请输入一个数字：11\n",
      "你输入的数字太小了\n",
      "请输入一个数字：12\n",
      "你输入的数字太小了\n",
      "请输入一个数字：13\n",
      "你输入的数字太小了\n",
      "请输入一个数字：15\n",
      "你真厉害，猜对了\n"
     ]
    }
   ],
   "source": [
    "#产生一个随机数，你去输入，如果你输入的数大于随机数，那么就告诉你太大了，反之，太小了，一直输入，直到他满意为止\n",
    "import random\n",
    "#import randiant\n",
    "a = 10\n",
    "b = 15\n",
    "c = random.randint(a,b)\n",
    "while True:\n",
    "    d = eval(input('请输入一个数字：'))\n",
    "    if d == c:\n",
    "        print('你真厉害，猜对了')\n",
    "        break\n",
    "    elif  d > c:\n",
    "        print('你输入的数字太大了')\n",
    "    elif c > d:\n",
    "        print('你输入的数字太小了')"
   ]
  },
  {
   "cell_type": "markdown",
   "metadata": {},
   "source": [
    "##  其他random方法\n",
    "- random.random 返回0.0到1.0之间前闭后开区间的随机浮点\n",
    "- random.randrange(a,b) 前闭后开"
   ]
  },
  {
   "cell_type": "code",
   "execution_count": 16,
   "metadata": {},
   "outputs": [
    {
     "data": {
      "text/plain": [
       "0.8691675322073887"
      ]
     },
     "execution_count": 16,
     "metadata": {},
     "output_type": "execute_result"
    }
   ],
   "source": [
    "random.random()"
   ]
  },
  {
   "cell_type": "code",
   "execution_count": 17,
   "metadata": {},
   "outputs": [
    {
     "data": {
      "text/plain": [
       "8"
      ]
     },
     "execution_count": 17,
     "metadata": {},
     "output_type": "execute_result"
    }
   ],
   "source": [
    "#产生随机数给他一个范围\n",
    "random.randrange(0,10,2)#每次返回的是偶数"
   ]
  },
  {
   "cell_type": "markdown",
   "metadata": {},
   "source": [
    "## EP：\n",
    "- 产生两个随机整数number1和number2，然后显示给用户，使用户输入数字的和，并判定其是否正确\n",
    "- 进阶:写一个随机序号点名程序"
   ]
  },
  {
   "cell_type": "code",
   "execution_count": 7,
   "metadata": {},
   "outputs": [
    {
     "name": "stdout",
     "output_type": "stream",
     "text": [
      "产生的随机数:53, 84\n",
      "用户输入随机数字的和:137\n",
      "你真厉害，猜对了\n"
     ]
    }
   ],
   "source": [
    "import random\n",
    "#import randiant\n",
    "a = 1\n",
    "b = 100\n",
    "number1 = random.randint(a,b)\n",
    "number2 = random.randint(a,b)\n",
    "while True:\n",
    "    print('产生的随机数:' + str(number1) + ', ' + str(number2) )\n",
    "    sum = number1 + number2\n",
    "    user1 = eval(input('用户输入随机数字的和:' ))\n",
    "    if sum == user1:\n",
    "        print('你真厉害，猜对了')\n",
    "        break\n",
    "    elif sum != user1:\n",
    "        print('你猜错了')"
   ]
  },
  {
   "cell_type": "code",
   "execution_count": null,
   "metadata": {},
   "outputs": [],
   "source": [
    "import random\n",
    "#import randiant\n",
    "a = 1\n",
    "b = 100\n",
    "number1 = random.randint(a,b)\n",
    "number2 = random.randint(a,b)\n",
    "while True:\n",
    "    print('产生的随机数:' + str(number1) + ', ' + str(number2) )\n",
    "    sum = number1 + number2\n",
    "    user1 = eval(input('用户输入随机数字的和:' ))\n",
    "    if sum == user1:\n",
    "        print('你真厉害，猜对了')\n",
    "        break\n",
    "    elif sum != user1:\n",
    "        print('你猜错了')"
   ]
  },
  {
   "cell_type": "markdown",
   "metadata": {},
   "source": [
    "## if语句\n",
    "- 如果条件正确就执行一个单向if语句，亦即当条件为真的时候才执行if内部的语句\n",
    "- Python有很多选择语句:\n",
    "> - 单向if \n",
    "  - 双向if-else\n",
    "  - 嵌套if\n",
    "  - 多向if-elif-else\n",
    "  \n",
    "- 注意：当语句含有子语句的时候，那么一定至少要有一个缩进，也就是说如果有儿子存在，那么一定要缩进\n",
    "- 切记不可tab键和space混用，单用tab 或者 space\n",
    "- 当你输出的结果是无论if是否为真时都需要显示时，语句应该与if对齐"
   ]
  },
  {
   "cell_type": "code",
   "execution_count": null,
   "metadata": {},
   "outputs": [],
   "source": [
    "# if condition:\n",
    "#     pass\n",
    "# else:\n",
    "#     pass\n",
    "# if condition:\n",
    "#     pass\n",
    "# elif condition:\n",
    "#     pass\n",
    "# else:\n",
    "#     pass\n",
    "if True:\n",
    "    if True:\n",
    "    else:\n",
    "        \n"
   ]
  },
  {
   "cell_type": "code",
   "execution_count": 8,
   "metadata": {},
   "outputs": [
    {
     "name": "stdout",
     "output_type": "stream",
     "text": [
      "输入一个年龄30\n",
      "见面\n",
      "输入帅不帅帅或中等\n",
      "帅或中等\n",
      "输入收入高低中等中等\n",
      "公务员\n",
      "输入是不是公务员公务员\n",
      "见\n"
     ]
    }
   ],
   "source": [
    "age = eval(input('输入一个年龄'))\n",
    "if age > 30:\n",
    "    print('不见')\n",
    "elif age <= 30:\n",
    "    print('见面')\n",
    "    face = input('输入帅不帅')\n",
    "    if face == '丑' :\n",
    "        print('不见')\n",
    "    else :\n",
    "        print('帅或中等')\n",
    "        shouru = input('输入收入高低中等')\n",
    "        if shouru == '低' :\n",
    "            print('不见')\n",
    "        elif shouru == '高' :\n",
    "            print('见')\n",
    "        elif shouru == '中等':\n",
    "            print('公务员')\n",
    "            ren = input('输入是不是公务员')\n",
    "            if ren == '公务员' :\n",
    "                print('见')\n",
    "            else :\n",
    "                print('不见')\n",
    "    "
   ]
  },
  {
   "cell_type": "code",
   "execution_count": 2,
   "metadata": {},
   "outputs": [
    {
     "name": "stdout",
     "output_type": "stream",
     "text": [
      ">>30\n",
      "见面\n",
      ">>好\n",
      "见面\n",
      ">>高\n",
      "见面\n",
      ">>公务员\n",
      "不见面\n"
     ]
    }
   ],
   "source": [
    "age = eval(input('>>'))\n",
    "if age <= 30:\n",
    "    print('见面')\n",
    "    face = input('>>')\n",
    "    if face == '好':\n",
    "        print('见面')\n",
    "        shouru = input('>>')\n",
    "        if shouru == '高':\n",
    "            print('见面')\n",
    "            gongwuyuan = input('>>')\n",
    "            if gongwuyuan == '是':\n",
    "                print('见面')\n",
    "            else :\n",
    "                print('不见面')\n",
    "        else :\n",
    "            print('收入太低了')\n",
    "    else :\n",
    "        print('太丑了')\n",
    "elif age > 30 :\n",
    "    print('不见面')"
   ]
  },
  {
   "cell_type": "markdown",
   "metadata": {},
   "source": [
    "## EP：\n",
    "- 用户输入一个数字，判断其实奇数还是偶数\n",
    "- 进阶：可以查看下4.5实例研究猜生日"
   ]
  },
  {
   "cell_type": "code",
   "execution_count": 14,
   "metadata": {},
   "outputs": [
    {
     "name": "stdout",
     "output_type": "stream",
     "text": [
      "输入一个数字0\n",
      "输入的是偶数\n"
     ]
    }
   ],
   "source": [
    "num = eval(input('输入一个数字'))\n",
    "if num %2 == 0:\n",
    "    print('输入的是偶数')\n",
    "elif num %2 == 1 :\n",
    "    print('输入的是奇数')\n"
   ]
  },
  {
   "cell_type": "code",
   "execution_count": null,
   "metadata": {},
   "outputs": [],
   "source": []
  },
  {
   "cell_type": "markdown",
   "metadata": {},
   "source": [
    "## 双向if-else 语句\n",
    "- 如果条件为真，那么走if内部语句，否则走else内部语句"
   ]
  },
  {
   "cell_type": "markdown",
   "metadata": {},
   "source": [
    "## EP：\n",
    "- 产生两个随机整数number1和number2，然后显示给用户，使用户输入数字，并判定其是否正确,如果正确打印“you‘re correct”，否则打印正确错误"
   ]
  },
  {
   "cell_type": "markdown",
   "metadata": {},
   "source": [
    "## 嵌套if 和多向if-elif-else\n",
    "![](../Photo/35.png)"
   ]
  },
  {
   "cell_type": "markdown",
   "metadata": {},
   "source": [
    "## EP：\n",
    "- 提示用户输入一个年份，然后显示表示这一年的动物\n",
    "![](../Photo/36.png)\n",
    "- 计算身体质量指数的程序\n",
    "- BMI = 以千克为单位的体重除以以米为单位的身高\n",
    "![](../Photo/37.png)"
   ]
  },
  {
   "cell_type": "code",
   "execution_count": 25,
   "metadata": {},
   "outputs": [
    {
     "name": "stdout",
     "output_type": "stream",
     "text": [
      "输入年份1996\n"
     ]
    },
    {
     "ename": "TypeError",
     "evalue": "not all arguments converted during string formatting",
     "output_type": "error",
     "traceback": [
      "\u001b[1;31m---------------------------------------------------------------------------\u001b[0m",
      "\u001b[1;31mTypeError\u001b[0m                                 Traceback (most recent call last)",
      "\u001b[1;32m<ipython-input-25-c21c14b9ac00>\u001b[0m in \u001b[0;36m<module>\u001b[1;34m()\u001b[0m\n\u001b[0;32m      1\u001b[0m \u001b[0myear\u001b[0m \u001b[1;33m=\u001b[0m \u001b[0minput\u001b[0m\u001b[1;33m(\u001b[0m\u001b[1;34m'输入年份'\u001b[0m\u001b[1;33m)\u001b[0m\u001b[1;33m\u001b[0m\u001b[0m\n\u001b[1;32m----> 2\u001b[1;33m \u001b[1;32mif\u001b[0m \u001b[0myear\u001b[0m \u001b[1;33m%\u001b[0m \u001b[1;36m12\u001b[0m \u001b[1;33m==\u001b[0m \u001b[1;36m0\u001b[0m\u001b[1;33m:\u001b[0m\u001b[1;33m\u001b[0m\u001b[0m\n\u001b[0m\u001b[0;32m      3\u001b[0m     \u001b[0mprint\u001b[0m\u001b[1;33m(\u001b[0m\u001b[1;34m'猴'\u001b[0m\u001b[1;33m)\u001b[0m\u001b[1;33m\u001b[0m\u001b[0m\n\u001b[0;32m      4\u001b[0m \u001b[1;32melif\u001b[0m \u001b[0myear\u001b[0m \u001b[1;33m%\u001b[0m \u001b[1;36m12\u001b[0m \u001b[1;33m==\u001b[0m \u001b[1;36m1\u001b[0m\u001b[1;33m:\u001b[0m\u001b[1;33m\u001b[0m\u001b[0m\n\u001b[0;32m      5\u001b[0m     \u001b[0mprint\u001b[0m\u001b[1;33m(\u001b[0m\u001b[1;34m'鸡'\u001b[0m\u001b[1;33m)\u001b[0m\u001b[1;33m\u001b[0m\u001b[0m\n",
      "\u001b[1;31mTypeError\u001b[0m: not all arguments converted during string formatting"
     ]
    }
   ],
   "source": [
    "year = input('输入年份')\n",
    "if year % 12 == 0:\n",
    "    print('猴')\n",
    "elif year % 12 == 1:\n",
    "    print('鸡')\n",
    "elif year % 12 == 2:\n",
    "    print('狗')\n",
    "elif year % 12 == 3:\n",
    "    print('猪')\n",
    "elif year % 12 == 4:\n",
    "    print('鼠')\n",
    "elif year % 12 == 5:\n",
    "    print('牛')\n",
    "elif year % 12 == 6:\n",
    "    print('虎')\n",
    "elif year % 12 == 7:\n",
    "    print('兔')\n",
    "elif year % 12 == 8:\n",
    "    print('龙')\n",
    "elif year % 12 == 9:\n",
    "    print('蛇')\n",
    "elif year % 12 == 10:\n",
    "    print('马')\n",
    "elif year % 12 == 11:\n",
    "    print('羊')\n"
   ]
  },
  {
   "cell_type": "code",
   "execution_count": null,
   "metadata": {},
   "outputs": [],
   "source": []
  },
  {
   "cell_type": "code",
   "execution_count": 24,
   "metadata": {},
   "outputs": [
    {
     "name": "stdout",
     "output_type": "stream",
     "text": [
      "输入体重:60\n",
      "输入身高:1.8\n",
      "标准:18.51851851851852\n"
     ]
    }
   ],
   "source": [
    "tizhong = eval(input('输入体重:'))\n",
    "shengao = eval(input('输入身高:'))\n",
    "BMI = tizhong / shengao ** 2\n",
    "if BMI < 18.5 :\n",
    "    print('超轻:'+ str(BMI))\n",
    "elif  18.5 <= BMI < 25.0 :\n",
    "    print('标准:'+ str(BMI))\n",
    "elif  18.5 <= BMI < 25.0 :\n",
    "    print('超重:'+ str(BMI))\n",
    "elif  20.5 <= BMI < 30.0 :\n",
    "    print('痴肥:'+ str(BMI))\n",
    "elif   BMI >= 30.0 :\n",
    "    print('超轻')"
   ]
  },
  {
   "cell_type": "markdown",
   "metadata": {},
   "source": [
    "## 逻辑运算符\n",
    "![](../Photo/38.png)"
   ]
  },
  {
   "cell_type": "markdown",
   "metadata": {},
   "source": [
    "![](../Photo/39.png)\n",
    "![](../Photo/40.png)"
   ]
  },
  {
   "cell_type": "code",
   "execution_count": 31,
   "metadata": {},
   "outputs": [
    {
     "name": "stdout",
     "output_type": "stream",
     "text": [
      "输入：长得高\n"
     ]
    }
   ],
   "source": [
    "res = input('输入：')\n",
    "if '长得高'== res and '长得帅' == res:\n",
    "    pass"
   ]
  },
  {
   "cell_type": "code",
   "execution_count": 33,
   "metadata": {},
   "outputs": [],
   "source": [
    "if '长得高'== res or '长得帅' == res:\n",
    "    pass"
   ]
  },
  {
   "cell_type": "code",
   "execution_count": 28,
   "metadata": {},
   "outputs": [
    {
     "data": {
      "text/plain": [
       "False"
      ]
     },
     "execution_count": 28,
     "metadata": {},
     "output_type": "execute_result"
    }
   ],
   "source": [
    "a = [1,2,3,4]\n",
    "1 not in a "
   ]
  },
  {
   "cell_type": "code",
   "execution_count": 29,
   "metadata": {},
   "outputs": [
    {
     "data": {
      "text/plain": [
       "True"
      ]
     },
     "execution_count": 29,
     "metadata": {},
     "output_type": "execute_result"
    }
   ],
   "source": [
    "a = [1,2,3,4]\n",
    "1 in a "
   ]
  },
  {
   "cell_type": "code",
   "execution_count": null,
   "metadata": {},
   "outputs": [],
   "source": [
    "if '这个人' not '美':\n",
    "    print('这个人不美')\n",
    "    "
   ]
  },
  {
   "cell_type": "code",
   "execution_count": 30,
   "metadata": {},
   "outputs": [
    {
     "ename": "SyntaxError",
     "evalue": "invalid syntax (<ipython-input-30-c06aba2c1a99>, line 1)",
     "output_type": "error",
     "traceback": [
      "\u001b[1;36m  File \u001b[1;32m\"<ipython-input-30-c06aba2c1a99>\"\u001b[1;36m, line \u001b[1;32m1\u001b[0m\n\u001b[1;33m    True == not True\u001b[0m\n\u001b[1;37m              ^\u001b[0m\n\u001b[1;31mSyntaxError\u001b[0m\u001b[1;31m:\u001b[0m invalid syntax\n"
     ]
    }
   ],
   "source": [
    "True == not True"
   ]
  },
  {
   "cell_type": "code",
   "execution_count": 34,
   "metadata": {},
   "outputs": [
    {
     "data": {
      "text/plain": [
       "True"
      ]
     },
     "execution_count": 34,
     "metadata": {},
     "output_type": "execute_result"
    }
   ],
   "source": [
    "age = 19\n",
    "not (age > 20)#not是取反的意思"
   ]
  },
  {
   "cell_type": "markdown",
   "metadata": {},
   "source": [
    "## EP：\n",
    "- 判定闰年：一个年份如果能被4整除但不能被100整除，或者能被400整除，那么这个年份就是闰年\n",
    "- 提示用户输入一个年份，并返回是否是闰年\n",
    "- 提示用户输入一个数字，判断其是否为水仙花数"
   ]
  },
  {
   "cell_type": "code",
   "execution_count": 11,
   "metadata": {},
   "outputs": [
    {
     "name": "stdout",
     "output_type": "stream",
     "text": [
      "输入月份:6\n",
      "非闰年\n"
     ]
    }
   ],
   "source": [
    "year = eval(input('输入年份:'))\n",
    "if (year % 4 == 0 and year % 100 != 0) or (year % 400 == 0):\n",
    "    print('闰年')\n",
    "else :                                                                      \n",
    "    print('非闰年')"
   ]
  },
  {
   "cell_type": "code",
   "execution_count": 19,
   "metadata": {},
   "outputs": [
    {
     "name": "stdout",
     "output_type": "stream",
     "text": [
      "输入一个三位数字:153\n",
      "水仙花\n"
     ]
    }
   ],
   "source": [
    "num = eval(input('输入一个三位数字:'))\n",
    "num1 = num % 10\n",
    "num2 = num //10%10\n",
    "num3 = num //100\n",
    "if num1 ** 3 + num2 ** 3 + num3 ** 3 == num:\n",
    "    print('水仙花')\n",
    "else:\n",
    "    print('非水仙花')"
   ]
  },
  {
   "cell_type": "code",
   "execution_count": null,
   "metadata": {},
   "outputs": [],
   "source": [
    " = eval(input('输入'))\n",
    "if :\n",
    "    print('')\n",
    "else:\n",
    "    print('')"
   ]
  },
  {
   "cell_type": "markdown",
   "metadata": {},
   "source": [
    "## 实例研究：彩票\n",
    "![](../Photo/41.png)"
   ]
  },
  {
   "cell_type": "code",
   "execution_count": 24,
   "metadata": {},
   "outputs": [
    {
     "name": "stdout",
     "output_type": "stream",
     "text": [
      "随机数75\n",
      "输入一个两位数1\n"
     ]
    }
   ],
   "source": [
    "import random\n",
    "#import randiant\n",
    "a = 10\n",
    "b = 99\n",
    "number1 = random.randint(a,b)\n",
    "print('随机数' + str(number1))\n",
    "number2 = eval(input('输入一个两位数'))\n",
    "num1 = number1 % 10\n",
    "num2 = number1 //10%10\n",
    "num3 = number2 % 10\n",
    "num4 = number2 //10%10\n",
    "if number1 == number2:\n",
    "    print('奖金为10000美元')\n",
    "elif num1 == num3 or num1 == num4 or num2 == num3 or num2 == num4:\n",
    "    print('奖金为3000美元')\n",
    "elif number1 == number2:\n",
    "    print('奖金为100美元')"
   ]
  },
  {
   "cell_type": "code",
   "execution_count": 20,
   "metadata": {},
   "outputs": [
    {
     "data": {
      "text/plain": [
       "13"
      ]
     },
     "execution_count": 20,
     "metadata": {},
     "output_type": "execute_result"
    }
   ],
   "source": [
    "13 % 31\n"
   ]
  },
  {
   "cell_type": "code",
   "execution_count": null,
   "metadata": {},
   "outputs": [],
   "source": [
    "import random\n",
    "#import randiant\n",
    "a = 0\n",
    "b = 9\n",
    "number1 = random.randint(a,b)\n",
    "number1 = random.randint(a,b)\n",
    "print('随机数' + str(number1))\n",
    "number2 = eval(input('输入一个两位数'))\n",
    "random = number1 + number2\n",
    "if random == number2:\n",
    "    print('奖金为10000美元')\n",
    "elif num[0] == num3 or num1 == num4 or num2 == num3 or num2 == num4:\n",
    "    print('奖金为3000美元')\n",
    "elif number1 == number2:\n",
    "    print('奖金为100美元')"
   ]
  },
  {
   "cell_type": "markdown",
   "metadata": {},
   "source": [
    "# Homework\n",
    "- 1\n",
    "![](../Photo/42.png)"
   ]
  },
  {
   "cell_type": "code",
   "execution_count": 12,
   "metadata": {},
   "outputs": [
    {
     "name": "stdout",
     "output_type": "stream",
     "text": [
      "输入:1,2.0,1\n",
      "方程有1个实根-1.0\n"
     ]
    }
   ],
   "source": [
    "import math \n",
    "a,b,c = eval(input('输入:'))\n",
    "num= b ** 2 - 4 * a * c\n",
    "if num > 0:\n",
    "    r1 = ( -b + math.sqrt(num))/ (2 * a)\n",
    "    r2 = ( -b - math.sqrt(num))/ (2 * a)\n",
    "    print('方程有两个实根:'+ str(r1) + str(r2))\n",
    "elif num == 0:\n",
    "    r1 = ( -b + math.sqrt(num))/ (2 * a)\n",
    "    print('方程有1个实根:' + str(r1))\n",
    "elif num < 0:\n",
    "    print('方程没有实根:')"
   ]
  },
  {
   "cell_type": "markdown",
   "metadata": {},
   "source": [
    "- 2\n",
    "![](../Photo/43.png)"
   ]
  },
  {
   "cell_type": "code",
   "execution_count": 1,
   "metadata": {},
   "outputs": [
    {
     "name": "stdout",
     "output_type": "stream",
     "text": [
      "90 82\n",
      "输入两个数字的和：172\n",
      "结果为真\n"
     ]
    }
   ],
   "source": [
    "import random\n",
    "#import randiant\n",
    "number1 = random.randint(0,99)\n",
    "number2 = random.randint(0,99)\n",
    "print(str(number1)+' ' + str(number2))\n",
    "random = number1 + number2\n",
    "user = eval(input('输入两个数字的和：'))\n",
    "if random == user:\n",
    "    print('结果为真')\n",
    "else:\n",
    "    print('结果为假')"
   ]
  },
  {
   "cell_type": "markdown",
   "metadata": {},
   "source": [
    "- 3\n",
    "![](../Photo/44.png)"
   ]
  },
  {
   "cell_type": "code",
   "execution_count": 1,
   "metadata": {},
   "outputs": [
    {
     "name": "stdout",
     "output_type": "stream",
     "text": [
      "请输入今天是一周内哪一天的数字：1\n",
      "请输入今天之后到未来某天的天数：3\n",
      "今天是 Monday ，未来 3 天之后是 Thursday\n"
     ]
    }
   ],
   "source": [
    "today = eval(input('请输入今天是一周内哪一天的数字：'))\n",
    "future = eval(input('请输入今天之后到未来某天的天数：'))\n",
    "if future < 7:\n",
    "    a = ['Sunday','Monday','Tuesday','Wednesday','Thursday','Fraday','Saturday']\n",
    "    b = today + future\n",
    "    print('今天是',a[today],'，未来',future,'天之后是',a[b])\n",
    "else:\n",
    "    \n",
    "    \n",
    "    c = future % 7\n",
    "    b = today + c\n",
    "    print('今天是',a[today],'，未来',future,'天之后是',a[b])"
   ]
  },
  {
   "cell_type": "markdown",
   "metadata": {},
   "source": [
    "- 4\n",
    "![](../Photo/45.png)"
   ]
  },
  {
   "cell_type": "code",
   "execution_count": 23,
   "metadata": {},
   "outputs": [
    {
     "name": "stdout",
     "output_type": "stream",
     "text": [
      "输入三个整数：4,2,3\n",
      "4 3 2\n"
     ]
    }
   ],
   "source": [
    "a,b,c= eval(input('输入三个整数：'))\n",
    "if a > b and a > c:\n",
    "    print(str(a) ,end =' ' )\n",
    "    if b > c:\n",
    "        print(str(b) + ' ' + str(c))\n",
    "    elif c > b:\n",
    "        print(str(c)+ ' ' + str(b))\n",
    "elif b > a and b > c: \n",
    "    print(str(b) ,end =' ' )\n",
    "    if a > c:\n",
    "        print(str(a)  +  ' ' +str(c))\n",
    "    elif c > a:\n",
    "        print(str(c) + ' ' + str(a))\n",
    "elif c > a and c > b: \n",
    "    print(str(c) ,end =' ' )\n",
    "    if b > a:\n",
    "        print(str(b)  +  ' ' + str(a))\n",
    "    elif a > b:\n",
    "        print(str(a)  + ' ' + str(b))\n",
    "    \n",
    "# else:\n",
    "#     print('')"
   ]
  },
  {
   "cell_type": "markdown",
   "metadata": {},
   "source": [
    "- 5\n",
    "![](../Photo/46.png)"
   ]
  },
  {
   "cell_type": "code",
   "execution_count": 3,
   "metadata": {},
   "outputs": [
    {
     "name": "stdout",
     "output_type": "stream",
     "text": [
      "输入第一种包装重量和价钱：2,10\n",
      "输入第二种包装重量和价钱：4,10\n",
      "第二种包装价钱更便宜\n"
     ]
    }
   ],
   "source": [
    "w1,m1= eval(input('输入第一种包装重量和价钱：'))\n",
    "w2,m2= eval(input('输入第二种包装重量和价钱：'))\n",
    "price1 = m1 / w1\n",
    "price2 = m2 /w2\n",
    "if price1 > price2:\n",
    "    print('第二种包装价钱更便宜')\n",
    "if price1 == price2:\n",
    "    print('两种包装价钱一样')\n",
    "if price1 < price2:\n",
    "    print('第一种包装价钱更便宜')\n",
    "# else:\n",
    "#     print('')"
   ]
  },
  {
   "cell_type": "markdown",
   "metadata": {},
   "source": [
    "- 6\n",
    "![](../Photo/47.png)"
   ]
  },
  {
   "cell_type": "code",
   "execution_count": 15,
   "metadata": {},
   "outputs": [
    {
     "name": "stdout",
     "output_type": "stream",
     "text": [
      "输入年份:2015\n",
      "输入月份:3\n",
      "2015年3月有31天\n"
     ]
    }
   ],
   "source": [
    "year = eval(input('输入年份:'))\n",
    "month = eval(input('输入月份:'))\n",
    "if (year % 4 == 0 and year % 100 != 0) or (year % 400 == 0):\n",
    "#     print('闰年')\n",
    "    if month == 2:\n",
    "        print(str(year) + '年'+ str(month) + '月'+ '有29天')\n",
    "    elif month == 1 or month == 3 or month == 5 or month == 7 or month == 8 or month == 10 or month == 12:\n",
    "        print(str(year) + '年'+ str(month) + '月'+ '有31天')\n",
    "    elif month == 4 or month == 6 or month == 9 or month == 11:\n",
    "        print(str(year) + '年'+ str(month) + '月'+ '有30天')\n",
    "    \n",
    "else : \n",
    "    if month == 2:\n",
    "        print(str(year) + '年'+ str(month) + '月'+ '有28天')\n",
    "    elif month == 1 or month == 3 or month == 5 or month == 7 or month == 8 or month == 10 or month == 12:\n",
    "        print(str(year) + '年'+ str(month) + '月'+ '有31天')\n",
    "    elif month == 4 or month == 6 or month == 9 or month == 11:\n",
    "        print(str(year) + '年'+ str(month) + '月'+ '有30天')\n",
    "#     print('非闰年')\n"
   ]
  },
  {
   "cell_type": "markdown",
   "metadata": {},
   "source": [
    "- 7\n",
    "![](../Photo/48.png)"
   ]
  },
  {
   "cell_type": "code",
   "execution_count": 22,
   "metadata": {},
   "outputs": [
    {
     "name": "stdout",
     "output_type": "stream",
     "text": [
      "0\n",
      "输入一个猜测值：正面\n",
      "猜测正确\n"
     ]
    }
   ],
   "source": [
    "import random\n",
    "number1 = random.randint(0,1)\n",
    "print(str(number1))\n",
    "正面 = 0\n",
    "反面 = 1\n",
    "m = input('输入一个猜测值：')\n",
    "if m =='正面':\n",
    "    print('猜测正确')\n",
    "elif m =='反面':\n",
    "    print('猜测错误')"
   ]
  },
  {
   "cell_type": "markdown",
   "metadata": {},
   "source": [
    "- 8\n",
    "![](../Photo/49.png)"
   ]
  },
  {
   "cell_type": "code",
   "execution_count": 3,
   "metadata": {},
   "outputs": [
    {
     "name": "stdout",
     "output_type": "stream",
     "text": [
      "1\n",
      "输入一个猜测值：1\n",
      "平局\n"
     ]
    }
   ],
   "source": [
    "import random\n",
    "number = random.randint(0,2)\n",
    "print(str(number))\n",
    "# 石头 = 0\n",
    "# 剪刀 = 1\n",
    "# 布 = 2+\n",
    "m = eval(input('输入一个猜测值0 - 2：'))\n",
    "if (number == 0 and m ==0) or (number == 1 and m ==1) or (number == 2 and m ==2):\n",
    "    print('平局')\n",
    "elif (number == 0 and m ==1) or (number == 1 and m == 2) or (number == 2 and m ==0):\n",
    "    print('你输了')\n",
    "elif (number == 1 and m ==0) or (number == 2 and m == 1) or (number == 0 and m ==2):\n",
    "    print('你赢了')"
   ]
  },
  {
   "cell_type": "markdown",
   "metadata": {},
   "source": [
    "- 9\n",
    "![](../Photo/50.png)"
   ]
  },
  {
   "cell_type": "code",
   "execution_count": 24,
   "metadata": {},
   "outputs": [
    {
     "name": "stdout",
     "output_type": "stream",
     "text": [
      "请输入年份：2015\n",
      "请输入月份（1-12）：12\n",
      "请输入这个月份的天数（1-31）：31\n",
      "今天是星期 Friday\n"
     ]
    }
   ],
   "source": [
    "year = eval(input('请输入年份：'))\n",
    "month = eval(input('请输入月份（1-12）：'))\n",
    "day = eval(input('请输入这个月份的天数（1-31）：'))\n",
    "j = year // 100\n",
    "k = year % 100\n",
    "h = ( day + ( 26*( month + 1) // 10) + k + k // 4 + j // 4 + 5 * j) % 7\n",
    "a = ['Sunday','Monday','Tuesday','Wednesday','Thursday','Friday','Saturday']\n",
    "print('今天是',a[h])\n"
   ]
  },
  {
   "cell_type": "markdown",
   "metadata": {},
   "source": [
    "- 10\n",
    "![](../Photo/51.png)"
   ]
  },
  {
   "cell_type": "code",
   "execution_count": 11,
   "metadata": {},
   "outputs": [
    {
     "name": "stdout",
     "output_type": "stream",
     "text": [
      "你选中的牌是：梅花7\n"
     ]
    }
   ],
   "source": [
    "import random\n",
    "number1 = random.randint(0,12)\n",
    "number2 = random.randint(0,3)\n",
    "shu1 = ['Ace','2','3','4','5','6','7','8','9','10','Jack','Queen','King','梅花','红桃','方块','黑桃']\n",
    "shu2 = ['梅花','红桃','方块','黑桃']\n",
    "print('你选中的牌是：' + shu2[number2] + shu1[number1])\n"
   ]
  },
  {
   "cell_type": "markdown",
   "metadata": {},
   "source": [
    "- 11\n",
    "![](../Photo/52.png)"
   ]
  },
  {
   "cell_type": "code",
   "execution_count": 29,
   "metadata": {},
   "outputs": [
    {
     "name": "stdout",
     "output_type": "stream",
     "text": [
      "输入一个三位整数：323\n",
      "它是回文数字\n"
     ]
    }
   ],
   "source": [
    "x = eval(input('输入一个三位整数：'))\n",
    "num1 = x % 10\n",
    "num2 = x //10%10\n",
    "num3 = x //100\n",
    "if num1 == num3:\n",
    "    print('它是回文数字')\n",
    "else:\n",
    "    print('它不是回文数字')\n",
    "    \n",
    "# else:\n",
    "#     print('')"
   ]
  },
  {
   "cell_type": "markdown",
   "metadata": {},
   "source": [
    "- 12\n",
    "![](../Photo/53.png)"
   ]
  },
  {
   "cell_type": "code",
   "execution_count": 25,
   "metadata": {},
   "outputs": [
    {
     "name": "stdout",
     "output_type": "stream",
     "text": [
      "输入三角形的三条边长：1,2,3\n",
      "三角形三边不合法\n"
     ]
    }
   ],
   "source": [
    "x,y,z= eval(input('输入三角形的三条边长：'))\n",
    "if (x + y > z and x+ z > y and z+ y > x ) and (x - y < z  and x - z < y and z - y < x):\n",
    "    s = x + y + z\n",
    "    print('三角形三边合法周长为：' + str(s))\n",
    "else:\n",
    "    print('三角形三边不合法')\n",
    "    \n",
    "# else:\n",
    "#     print('')"
   ]
  }
 ],
 "metadata": {
  "kernelspec": {
   "display_name": "Python 3",
   "language": "python",
   "name": "python3"
  },
  "language_info": {
   "codemirror_mode": {
    "name": "ipython",
    "version": 3
   },
   "file_extension": ".py",
   "mimetype": "text/x-python",
   "name": "python",
   "nbconvert_exporter": "python",
   "pygments_lexer": "ipython3",
   "version": "3.6.4"
  }
 },
 "nbformat": 4,
 "nbformat_minor": 2
}
