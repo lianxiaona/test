{
 "cells": [
  {
   "cell_type": "markdown",
   "metadata": {},
   "source": [
    "# 函数\n",
    "\n",
    "- 函数可以用来定义可重复代码，组织和简化\n",
    "- 一般来说一个函数在实际开发中为一个小功能\n",
    "- 一个类为一个大功能\n",
    "- 同样函数的长度不要超过一屏"
   ]
  },
  {
   "cell_type": "code",
   "execution_count": null,
   "metadata": {},
   "outputs": [],
   "source": [
    "PEP8的代码规范"
   ]
  },
  {
   "cell_type": "markdown",
   "metadata": {},
   "source": [
    "## 定义一个函数\n",
    "\n",
    "def function_name(list of parameters):\n",
    "    \n",
    "    do something\n",
    "![](../Photo/69.png)\n",
    "- 以前使用的random 或者range 或者print.. 其实都是函数或者类"
   ]
  },
  {
   "cell_type": "code",
   "execution_count": 4,
   "metadata": {},
   "outputs": [],
   "source": [
    "def fun_name():\n",
    "    print('你真是一个小天才')\n"
   ]
  },
  {
   "cell_type": "code",
   "execution_count": 5,
   "metadata": {},
   "outputs": [
    {
     "name": "stdout",
     "output_type": "stream",
     "text": [
      "你真是一个小天才\n"
     ]
    }
   ],
   "source": [
    "fun_name()#()表示函数调用"
   ]
  },
  {
   "cell_type": "code",
   "execution_count": 10,
   "metadata": {},
   "outputs": [],
   "source": [
    "def fun_name():\n",
    "    print('奇数')"
   ]
  },
  {
   "cell_type": "code",
   "execution_count": 11,
   "metadata": {},
   "outputs": [],
   "source": [
    "def fun_name1():\n",
    "    print('偶数')"
   ]
  },
  {
   "cell_type": "code",
   "execution_count": 14,
   "metadata": {},
   "outputs": [
    {
     "name": "stdout",
     "output_type": "stream",
     "text": [
      "请输入一个数：1\n",
      "奇数\n"
     ]
    }
   ],
   "source": [
    "shu = eval(input('请输入一个数：'))\n",
    "if shu % 2 == 1:\n",
    "    fun_name()\n",
    "else:\n",
    "    fun_name1()"
   ]
  },
  {
   "cell_type": "code",
   "execution_count": 18,
   "metadata": {},
   "outputs": [],
   "source": [
    "def pandun():\n",
    "    '''\n",
    "    这是一个判断奇数偶数的代码\n",
    "    '''\n",
    "    shu = eval(input('请输入一个数：'))\n",
    "    if shu % 2 == 1:\n",
    "        print('奇数')\n",
    "    else:\n",
    "        print('偶数')"
   ]
  },
  {
   "cell_type": "code",
   "execution_count": null,
   "metadata": {},
   "outputs": [],
   "source": []
  },
  {
   "cell_type": "code",
   "execution_count": 20,
   "metadata": {},
   "outputs": [
    {
     "name": "stdout",
     "output_type": "stream",
     "text": [
      "请输入一个数：1\n",
      "奇数\n"
     ]
    }
   ],
   "source": [
    "pandun()"
   ]
  },
  {
   "cell_type": "code",
   "execution_count": 1,
   "metadata": {},
   "outputs": [],
   "source": [
    "def sushu(num):\n",
    "    '''\n",
    "    这是一个素数\n",
    "    '''\n",
    "    #num = eval(input('>>' ))\n",
    "    for i in range(2,32): \n",
    "        if num % i == 0:\n",
    "            print('不是素数')\n",
    "            break\n",
    "    else:\n",
    "        print('素数',i)"
   ]
  },
  {
   "cell_type": "code",
   "execution_count": null,
   "metadata": {},
   "outputs": [
    {
     "name": "stdout",
     "output_type": "stream",
     "text": [
      "请输入一个数：4\n",
      "它不是素数\n",
      "请输入一个数：5\n",
      "它是素数\n",
      "请输入一个数：6\n",
      "它不是素数\n"
     ]
    }
   ],
   "source": [
    "sushu()"
   ]
  },
  {
   "cell_type": "markdown",
   "metadata": {},
   "source": [
    "## 调用一个函数\n",
    "- functionName()\n",
    "- \"()\" 就代表调用"
   ]
  },
  {
   "cell_type": "code",
   "execution_count": null,
   "metadata": {},
   "outputs": [],
   "source": [
    "if "
   ]
  },
  {
   "cell_type": "markdown",
   "metadata": {},
   "source": [
    "![](../Photo/70.png)"
   ]
  },
  {
   "cell_type": "code",
   "execution_count": null,
   "metadata": {},
   "outputs": [],
   "source": []
  },
  {
   "cell_type": "markdown",
   "metadata": {},
   "source": [
    "## 带返回值和不带返回值的函数\n",
    "- return 返回的内容\n",
    "- return 返回多个值\n",
    "- 一般情况下，在多个函数协同完成一个功能的时候，那么将会有返回值"
   ]
  },
  {
   "cell_type": "code",
   "execution_count": null,
   "metadata": {},
   "outputs": [],
   "source": []
  },
  {
   "cell_type": "markdown",
   "metadata": {},
   "source": [
    "![](../Photo/71.png)\n",
    "\n",
    "- 当然也可以自定义返回None"
   ]
  },
  {
   "cell_type": "code",
   "execution_count": null,
   "metadata": {},
   "outputs": [],
   "source": []
  },
  {
   "cell_type": "markdown",
   "metadata": {},
   "source": [
    "## EP：\n",
    "![](../Photo/72.png)"
   ]
  },
  {
   "cell_type": "code",
   "execution_count": null,
   "metadata": {},
   "outputs": [],
   "source": []
  },
  {
   "cell_type": "markdown",
   "metadata": {},
   "source": [
    "## 类型和关键字参数\n",
    "- 普通参数\n",
    "- 多个参数\n",
    "- 默认值参数\n",
    "- 不定长参数"
   ]
  },
  {
   "cell_type": "code",
   "execution_count": null,
   "metadata": {},
   "outputs": [],
   "source": [
    "import os\n",
    "def kuajiang(name):\n",
    "    os.system('say { }你真是'.format(name))"
   ]
  },
  {
   "cell_type": "code",
   "execution_count": null,
   "metadata": {},
   "outputs": [],
   "source": [
    "kuajiang('星期二')#位置参数，不带参数名传递方式"
   ]
  },
  {
   "cell_type": "code",
   "execution_count": null,
   "metadata": {},
   "outputs": [],
   "source": [
    "kuajiang(name = '星期二')#位置参数带参数名的传递方式"
   ]
  },
  {
   "cell_type": "code",
   "execution_count": 3,
   "metadata": {},
   "outputs": [],
   "source": [
    "#输入一个数，返回圆的公式 y=x的平方\n",
    "def  y(x):\n",
    "    return x ** 2"
   ]
  },
  {
   "cell_type": "code",
   "execution_count": 4,
   "metadata": {},
   "outputs": [
    {
     "name": "stdout",
     "output_type": "stream",
     "text": [
      "10000\n"
     ]
    }
   ],
   "source": [
    "y_ = y(100)\n",
    "print(y_)"
   ]
  },
  {
   "cell_type": "code",
   "execution_count": 12,
   "metadata": {},
   "outputs": [],
   "source": [
    "def shu(x):\n",
    "    input('>>') \n",
    "    def s(x):\n",
    "         return x ** 2\n",
    "         def t(x):\n",
    "            return x ** 3\n",
    "            def j(x):\n",
    "                return x ** 3 - x ** 2\n",
    "        "
   ]
  },
  {
   "cell_type": "code",
   "execution_count": 13,
   "metadata": {},
   "outputs": [
    {
     "name": "stdout",
     "output_type": "stream",
     "text": [
      ">>1\n",
      "None\n"
     ]
    }
   ],
   "source": [
    "shu_ = shu(100)\n",
    "print(shu_)"
   ]
  },
  {
   "cell_type": "code",
   "execution_count": null,
   "metadata": {},
   "outputs": [],
   "source": [
    "def y(x):\n",
    "    return x ** 2"
   ]
  },
  {
   "cell_type": "code",
   "execution_count": null,
   "metadata": {},
   "outputs": [],
   "source": [
    "def i(j):\n",
    "    return x ** 3"
   ]
  },
  {
   "cell_type": "code",
   "execution_count": null,
   "metadata": {},
   "outputs": [],
   "source": [
    "def y(x):\n",
    "    input('>>') "
   ]
  },
  {
   "cell_type": "code",
   "execution_count": 21,
   "metadata": {},
   "outputs": [],
   "source": [
    "#输入一个数，算它的二次幂和三次幂，然后算他们的差\n",
    "def san(num):\n",
    "    return num ** 3\n",
    "def liang(num):\n",
    "    return num ** 2\n",
    "def input_():\n",
    "    num = eval(input('>>'))\n",
    "    res3 = san(num)\n",
    "    res2 = liang(num)\n",
    "    print(res3 - res2)\n",
    "    print()"
   ]
  },
  {
   "cell_type": "code",
   "execution_count": 22,
   "metadata": {},
   "outputs": [
    {
     "name": "stdout",
     "output_type": "stream",
     "text": [
      ">>10\n",
      "900\n",
      "\n"
     ]
    }
   ],
   "source": [
    "input_()"
   ]
  },
  {
   "cell_type": "markdown",
   "metadata": {},
   "source": [
    "## 普通参数"
   ]
  },
  {
   "cell_type": "markdown",
   "metadata": {},
   "source": [
    "## 多个参数"
   ]
  },
  {
   "cell_type": "code",
   "execution_count": 24,
   "metadata": {},
   "outputs": [],
   "source": [
    "import os\n",
    "def kuajiang(name1,name2,name3):\n",
    "    os.system('say { }{ }{ }'.fromat(name1,name2,name3))\n",
    "    "
   ]
  },
  {
   "cell_type": "code",
   "execution_count": null,
   "metadata": {},
   "outputs": [],
   "source": [
    "kuajiang(name1='1',name2='2',name='3')"
   ]
  },
  {
   "cell_type": "code",
   "execution_count": null,
   "metadata": {},
   "outputs": [],
   "source": [
    "import os\n",
    "#如果参数含有默认值，统一放到最后面，不能交叉放入！！！\n",
    "def kuajiang(name1,name2,name3 = '3'):#要把默认值加到最后面，否则就会报错误\n",
    "    os.system('say { }{ }{ }'.fromat(name1,name2,name3))"
   ]
  },
  {
   "cell_type": "code",
   "execution_count": null,
   "metadata": {},
   "outputs": [],
   "source": [
    "kuajiang(name1='1',name2='2'')"
   ]
  },
  {
   "cell_type": "code",
   "execution_count": 2,
   "metadata": {},
   "outputs": [],
   "source": [
    "account = 'lxn'\n",
    "password = '123456'\n",
    "#is_ok_and_qitian = False"
   ]
  },
  {
   "cell_type": "code",
   "execution_count": 3,
   "metadata": {},
   "outputs": [],
   "source": [
    "#七天内免登录\n",
    "def login(account_login,password_login):#要把默认值加到最后面，否则就会报错误\n",
    "    if account_login==account and password_login==password:\n",
    "        print('登录成功')\n",
    "    else:\n",
    "        print('登录错误')\n",
    "    \n",
    "#     account ==\n",
    "#     password ==\n",
    "#     if \n",
    "#     os.system('say { }{ }{ }'.fromat(name1,name2,name3))"
   ]
  },
  {
   "cell_type": "code",
   "execution_count": 4,
   "metadata": {},
   "outputs": [
    {
     "name": "stdout",
     "output_type": "stream",
     "text": [
      "登录成功\n"
     ]
    }
   ],
   "source": [
    "login(account_login = 'lxn',password_login = '123456')"
   ]
  },
  {
   "cell_type": "code",
   "execution_count": 32,
   "metadata": {},
   "outputs": [],
   "source": [
    "account = 'lxn'\n",
    "password = '123456'\n",
    "is_ok_and_y = False"
   ]
  },
  {
   "cell_type": "code",
   "execution_count": 33,
   "metadata": {},
   "outputs": [],
   "source": [
    "def login(account_login,password_login):#要把默认值加到最后面，否则就会报错误\n",
    "#     global account_login\n",
    "#     global password_login\n",
    "    if account_login==account and password_login==password:\n",
    "        print('登录成功')\n",
    "    else:\n",
    "        print('登录错误')"
   ]
  },
  {
   "cell_type": "code",
   "execution_count": 36,
   "metadata": {},
   "outputs": [],
   "source": [
    "#七天内免登录\n",
    "def qitian():\n",
    "    global is_ok_and_y\n",
    "    if is_ok_and_y == False:\n",
    "        print('是否七天免登录?y/n')\n",
    "        res = input('>>')\n",
    "        account_login = input('请输入账号')\n",
    "        password_login = input('请输入密码')\n",
    "        if res == 'y':\n",
    "            login(account_login,password_login)\n",
    "            is_ok_and_y = True\n",
    "        else:\n",
    "            login(is_ok_and_y = True)\n",
    "\n",
    "    else:\n",
    "        print('登录成功')"
   ]
  },
  {
   "cell_type": "code",
   "execution_count": 35,
   "metadata": {},
   "outputs": [
    {
     "name": "stdout",
     "output_type": "stream",
     "text": [
      "是否七天免登录?y/n\n",
      ">>n\n",
      "请输入账号lxn\n",
      "请输入密码123456\n"
     ]
    },
    {
     "ename": "TypeError",
     "evalue": "login() got an unexpected keyword argument 'is_ok_and_y'",
     "output_type": "error",
     "traceback": [
      "\u001b[1;31m---------------------------------------------------------------------------\u001b[0m",
      "\u001b[1;31mTypeError\u001b[0m                                 Traceback (most recent call last)",
      "\u001b[1;32m<ipython-input-35-60e1d9e26e4c>\u001b[0m in \u001b[0;36m<module>\u001b[1;34m()\u001b[0m\n\u001b[1;32m----> 1\u001b[1;33m \u001b[0mqitian\u001b[0m\u001b[1;33m(\u001b[0m\u001b[1;33m)\u001b[0m\u001b[1;33m\u001b[0m\u001b[0m\n\u001b[0m",
      "\u001b[1;32m<ipython-input-34-3bb639fa63fa>\u001b[0m in \u001b[0;36mqitian\u001b[1;34m()\u001b[0m\n\u001b[0;32m     11\u001b[0m             \u001b[0mis_ok_and_y\u001b[0m \u001b[1;33m=\u001b[0m \u001b[1;32mTrue\u001b[0m\u001b[1;33m\u001b[0m\u001b[0m\n\u001b[0;32m     12\u001b[0m         \u001b[1;32melse\u001b[0m\u001b[1;33m:\u001b[0m\u001b[1;33m\u001b[0m\u001b[0m\n\u001b[1;32m---> 13\u001b[1;33m             \u001b[0mlogin\u001b[0m\u001b[1;33m(\u001b[0m\u001b[0mis_ok_and_y\u001b[0m \u001b[1;33m=\u001b[0m \u001b[1;32mTrue\u001b[0m\u001b[1;33m)\u001b[0m\u001b[1;33m\u001b[0m\u001b[0m\n\u001b[0m\u001b[0;32m     14\u001b[0m \u001b[1;33m\u001b[0m\u001b[0m\n\u001b[0;32m     15\u001b[0m     \u001b[1;32melse\u001b[0m\u001b[1;33m:\u001b[0m\u001b[1;33m\u001b[0m\u001b[0m\n",
      "\u001b[1;31mTypeError\u001b[0m: login() got an unexpected keyword argument 'is_ok_and_y'"
     ]
    }
   ],
   "source": [
    "qitian()"
   ]
  },
  {
   "cell_type": "code",
   "execution_count": null,
   "metadata": {},
   "outputs": [],
   "source": [
    "login(account_login = 'lxn',password_login = '123456')"
   ]
  },
  {
   "cell_type": "code",
   "execution_count": null,
   "metadata": {},
   "outputs": [],
   "source": []
  },
  {
   "cell_type": "code",
   "execution_count": null,
   "metadata": {},
   "outputs": [],
   "source": [
    "def qitian():\n",
    "       if is_ok_and_qitian != True:\n",
    "            print('是否七天免登录')\n",
    "            yes\n",
    "            input_account =\n",
    "            input_password=\n",
    "            login(is_login = True)\n",
    "            is_ok_and_qitian = True\n",
    "            \n",
    "            input_account =\n",
    "            input_password=\n",
    "            login(is_login = False)\n",
    "            is_ok_and_qitian = False"
   ]
  },
  {
   "cell_type": "markdown",
   "metadata": {},
   "source": [
    "## 默认值参数"
   ]
  },
  {
   "cell_type": "code",
   "execution_count": null,
   "metadata": {},
   "outputs": [],
   "source": [
    "import pandas as pd\n",
    "pd.read_csv()"
   ]
  },
  {
   "cell_type": "markdown",
   "metadata": {},
   "source": [
    "## 强制命名"
   ]
  },
  {
   "cell_type": "code",
   "execution_count": null,
   "metadata": {},
   "outputs": [],
   "source": [
    "#强制命名\n",
    "import os\n",
    "def kuajiang(*,name2,name3):\n",
    "    os.system('say { }{ }{ }'.fromat(name1,name2,name3))"
   ]
  },
  {
   "cell_type": "code",
   "execution_count": null,
   "metadata": {},
   "outputs": [],
   "source": [
    "kuajiang(name1='1',name2='2',name='3')"
   ]
  },
  {
   "cell_type": "markdown",
   "metadata": {},
   "source": [
    "## 不定长参数\n",
    "- \\*args\n",
    "> - 不定长，来多少装多少，不装也是可以的\n",
    "  - 返回的数据类型是元组\n",
    "  - args 名字是可以修改的，只是我们约定俗成的是args\n",
    "- \\**kwargs \n",
    "> - 返回的字典\n",
    "  - 输入的一定要是表达式（键值对）\n",
    "- name,\\*args,name2,\\**kwargs  使用参数名"
   ]
  },
  {
   "cell_type": "code",
   "execution_count": 47,
   "metadata": {},
   "outputs": [],
   "source": [
    "#强制命名\n",
    "import os\n",
    "def kuajiang(*args):#  *标识args是不定长字符\n",
    "    print(args)\n",
    "    print(str(args))\n",
    "    res = ','.join(args)\n",
    "    print(res)\n",
    "    #os.system('say { }{ }{ }'.fromat(res))"
   ]
  },
  {
   "cell_type": "code",
   "execution_count": 48,
   "metadata": {},
   "outputs": [
    {
     "name": "stdout",
     "output_type": "stream",
     "text": [
      "('1', '2')\n",
      "('1', '2')\n",
      "1,2\n"
     ]
    }
   ],
   "source": [
    "kuajiang('1','2')"
   ]
  },
  {
   "cell_type": "code",
   "execution_count": 38,
   "metadata": {},
   "outputs": [],
   "source": [
    "#强制命名\n",
    "def test(*args):\n",
    "    print(args)"
   ]
  },
  {
   "cell_type": "code",
   "execution_count": 39,
   "metadata": {},
   "outputs": [
    {
     "name": "stdout",
     "output_type": "stream",
     "text": [
      "(1, 2, 3, 4)\n"
     ]
    }
   ],
   "source": [
    "test(1,2,3,4)#元组"
   ]
  },
  {
   "cell_type": "markdown",
   "metadata": {},
   "source": [
    "## 变量的作用域\n",
    "- 局部变量 local\n",
    "- 全局变量 global\n",
    "- globals 函数返回一个全局变量的字典，包括所有导入的变量\n",
    "- locals() 函数会以字典类型返回当前位置的全部局部变量。"
   ]
  },
  {
   "cell_type": "code",
   "execution_count": 50,
   "metadata": {},
   "outputs": [],
   "source": [
    "a = 100\n",
    "b = 100\n",
    "c= True\n",
    "def test2():\n",
    "    a= 100\n",
    "    b = 1000\n",
    "    c= False\n",
    "    print(a,b,c)"
   ]
  },
  {
   "cell_type": "code",
   "execution_count": 51,
   "metadata": {},
   "outputs": [
    {
     "name": "stdout",
     "output_type": "stream",
     "text": [
      "100 1000 False\n",
      "100 100 True\n"
     ]
    }
   ],
   "source": [
    "test2()\n",
    "print(a,b,c)"
   ]
  },
  {
   "cell_type": "markdown",
   "metadata": {},
   "source": [
    "## 注意：\n",
    "- global ：在进行赋值操作的时候需要声明\n",
    "- 官方解释：This is because when you make an assignment to a variable in a scope, that variable becomes local to that scope and shadows any similarly named variable in the outer scope.\n",
    "- ![](../Photo/73.png)"
   ]
  },
  {
   "cell_type": "markdown",
   "metadata": {},
   "source": [
    "# Homework\n",
    "- 1\n",
    "![](../Photo/74.png)"
   ]
  },
  {
   "cell_type": "code",
   "execution_count": 22,
   "metadata": {},
   "outputs": [],
   "source": [
    "def getPentagonalNumber(num):\n",
    "#     for num in range(100)\n",
    "    count = 0  \n",
    "    for i in range(1,101):\n",
    "            num = int((i * ( 3 * i - 1) )/ 2 )\n",
    "            count += 1\n",
    "            if num < 100000:\n",
    "                print(num,' ',end=' ') \n",
    "                if count % 10 == 0:\n",
    "                        print( )"
   ]
  },
  {
   "cell_type": "code",
   "execution_count": 23,
   "metadata": {},
   "outputs": [
    {
     "name": "stdout",
     "output_type": "stream",
     "text": [
      "1   5   12   22   35   51   70   92   117   145   \n",
      "176   210   247   287   330   376   425   477   532   590   \n",
      "651   715   782   852   925   1001   1080   1162   1247   1335   \n",
      "1426   1520   1617   1717   1820   1926   2035   2147   2262   2380   \n",
      "2501   2625   2752   2882   3015   3151   3290   3432   3577   3725   \n",
      "3876   4030   4187   4347   4510   4676   4845   5017   5192   5370   \n",
      "5551   5735   5922   6112   6305   6501   6700   6902   7107   7315   \n",
      "7526   7740   7957   8177   8400   8626   8855   9087   9322   9560   \n",
      "9801   10045   10292   10542   10795   11051   11310   11572   11837   12105   \n",
      "12376   12650   12927   13207   13490   13776   14065   14357   14652   14950   \n"
     ]
    }
   ],
   "source": [
    "getPentagonalNumber(10000)"
   ]
  },
  {
   "cell_type": "markdown",
   "metadata": {},
   "source": [
    "- 2 \n",
    "![](../Photo/75.png)"
   ]
  },
  {
   "cell_type": "code",
   "execution_count": 14,
   "metadata": {},
   "outputs": [],
   "source": [
    "def sumDigits():\n",
    "    n1 = 0\n",
    "    n = eval(input('一个整数>>'))\n",
    "    while n % 10 !=0:\n",
    "        n1 += n % 10\n",
    "        n = n // 10\n",
    "    print('这个整数所有数字的和为：',n1+n )\n",
    "    \n",
    "    "
   ]
  },
  {
   "cell_type": "code",
   "execution_count": 15,
   "metadata": {},
   "outputs": [
    {
     "name": "stdout",
     "output_type": "stream",
     "text": [
      "一个整数>>12\n",
      "这个整数所有数字的和为： 3\n"
     ]
    }
   ],
   "source": [
    "sumDigits()"
   ]
  },
  {
   "cell_type": "markdown",
   "metadata": {},
   "source": [
    "- 3\n",
    "![](../Photo/76.png)"
   ]
  },
  {
   "cell_type": "code",
   "execution_count": 1,
   "metadata": {},
   "outputs": [],
   "source": [
    "def dsiplaySortedNumbers(a,b,c):\n",
    "    #a,b,c= eval(input('输入三个整数：'))\n",
    "    if a > b and a > c:\n",
    "        print(str(a) ,end =' ' )\n",
    "        if b > c:\n",
    "            print(str(b) + ' ' + str(c))\n",
    "        elif c > b:\n",
    "            print(str(c)+ ' ' + str(b))\n",
    "    elif b > a and b > c: \n",
    "        print(str(b) ,end =' ' )\n",
    "        if a > c:\n",
    "            print(str(a)  +  ' ' +str(c))\n",
    "        elif c > a:\n",
    "            print(str(c) + ' ' + str(a))\n",
    "    elif c > a and c > b: \n",
    "        print(str(c) ,end =' ' )\n",
    "        if b > a:\n",
    "            print(str(b)  +  ' ' + str(a))\n",
    "        elif a > b:\n",
    "            print(str(a)  + ' ' + str(b))\n",
    "    "
   ]
  },
  {
   "cell_type": "code",
   "execution_count": 2,
   "metadata": {},
   "outputs": [
    {
     "name": "stdout",
     "output_type": "stream",
     "text": [
      "10 9 7\n"
     ]
    }
   ],
   "source": [
    "dsiplaySortedNumbers(7,10,9)"
   ]
  },
  {
   "cell_type": "markdown",
   "metadata": {},
   "source": [
    "- 4\n",
    "![](../Photo/77.png)"
   ]
  },
  {
   "cell_type": "code",
   "execution_count": null,
   "metadata": {},
   "outputs": [],
   "source": []
  },
  {
   "cell_type": "markdown",
   "metadata": {},
   "source": [
    "- 5\n",
    "![](../Photo/78.png)"
   ]
  },
  {
   "cell_type": "code",
   "execution_count": 62,
   "metadata": {},
   "outputs": [],
   "source": [
    "def printChars(ch1,ch2,number):\n",
    "#num = ['a','b','c','d','e','f','g','h','i','j','k','l','m','n','o','p','q','r','s','t','u','v','w','s','y','z']\n",
    "    count =0\n",
    "    for i in range(ord(ch1),ord(ch2)+1):#chr 返回ASCII码，chr返回字符串\n",
    "        print(chr(i),end= ' ')\n",
    "        count += 1\n",
    "        if count % int(number) == 0:\n",
    "            print( )\n",
    "    \n"
   ]
  },
  {
   "cell_type": "code",
   "execution_count": 63,
   "metadata": {},
   "outputs": [
    {
     "name": "stdout",
     "output_type": "stream",
     "text": [
      "0 1 2 3 4 5 6 7 8 9 \n",
      ": ; < = > ? @ A B C \n",
      "D E F G H I J K L M \n",
      "N O P Q R S T U V W \n",
      "X Y Z "
     ]
    }
   ],
   "source": [
    "printChars('0','Z','10')"
   ]
  },
  {
   "cell_type": "markdown",
   "metadata": {},
   "source": [
    "- 6\n",
    "![](../Photo/79.png)"
   ]
  },
  {
   "cell_type": "code",
   "execution_count": 60,
   "metadata": {},
   "outputs": [],
   "source": [
    "def numberOfDaysInYear():    \n",
    "    for year in range(2010,2021):\n",
    "        #year = print('输入一个2010-2020其中的一年：')\n",
    "        if (year % 4 == 0 and year % 100 != 0) or (year % 400 == 0):\n",
    "            print(year,'年有366天')\n",
    "        else:\n",
    "            print(year,'年有365天')"
   ]
  },
  {
   "cell_type": "code",
   "execution_count": 59,
   "metadata": {},
   "outputs": [
    {
     "name": "stdout",
     "output_type": "stream",
     "text": [
      "2010 年有365天\n",
      "2011 年有365天\n",
      "2012 年有366天\n",
      "2013 年有365天\n",
      "2014 年有365天\n",
      "2015 年有365天\n",
      "2016 年有366天\n",
      "2017 年有365天\n",
      "2018 年有365天\n",
      "2019 年有365天\n",
      "2020 年有366天\n"
     ]
    }
   ],
   "source": [
    "numberOfDaysInYear()"
   ]
  },
  {
   "cell_type": "markdown",
   "metadata": {},
   "source": [
    "- 7\n",
    "![](../Photo/80.png)"
   ]
  },
  {
   "cell_type": "code",
   "execution_count": 66,
   "metadata": {},
   "outputs": [],
   "source": [
    "import math\n",
    "def dsitance(x1,y1,x2,y2):\n",
    "    juli = round(math.sqrt((x1-x2) ** 2 + (y1-y2) ** 2),2)\n",
    "    print(juli)"
   ]
  },
  {
   "cell_type": "code",
   "execution_count": 67,
   "metadata": {},
   "outputs": [
    {
     "name": "stdout",
     "output_type": "stream",
     "text": [
      "2.83\n"
     ]
    }
   ],
   "source": [
    "dsitance(2,2,4,4)"
   ]
  },
  {
   "cell_type": "markdown",
   "metadata": {},
   "source": [
    "- 8\n",
    "![](../Photo/81.png)"
   ]
  },
  {
   "cell_type": "code",
   "execution_count": 59,
   "metadata": {},
   "outputs": [],
   "source": [
    "def sushu():\n",
    "    '''\n",
    "    这是一个素数\n",
    "    '''\n",
    "    num = 0\n",
    "    for i in range(2,6):\n",
    "        for j in range(2,i):\n",
    "            if i % j == 0 :\n",
    "                break\n",
    "        else :            \n",
    "            num = 2 ** i -1\n",
    "            if num <=31:\n",
    "                print(i )\n",
    "                print(num)"
   ]
  },
  {
   "cell_type": "code",
   "execution_count": 60,
   "metadata": {},
   "outputs": [
    {
     "name": "stdout",
     "output_type": "stream",
     "text": [
      "2\n",
      "3\n",
      "3\n",
      "7\n",
      "5\n",
      "31\n"
     ]
    }
   ],
   "source": [
    "sushu()"
   ]
  },
  {
   "cell_type": "markdown",
   "metadata": {},
   "source": [
    "- 9\n",
    "![](../Photo/82.png)\n",
    "![](../Photo/83.png)"
   ]
  },
  {
   "cell_type": "code",
   "execution_count": null,
   "metadata": {},
   "outputs": [],
   "source": [
    "def time.time():\n",
    "    "
   ]
  },
  {
   "cell_type": "markdown",
   "metadata": {},
   "source": [
    "- 10\n",
    "![](../Photo/84.png)"
   ]
  },
  {
   "cell_type": "markdown",
   "metadata": {},
   "source": [
    "- 11 \n",
    "### 去网上寻找如何用Python代码发送邮件"
   ]
  }
 ],
 "metadata": {
  "kernelspec": {
   "display_name": "Python 3",
   "language": "python",
   "name": "python3"
  },
  "language_info": {
   "codemirror_mode": {
    "name": "ipython",
    "version": 3
   },
   "file_extension": ".py",
   "mimetype": "text/x-python",
   "name": "python",
   "nbconvert_exporter": "python",
   "pygments_lexer": "ipython3",
   "version": "3.6.4"
  }
 },
 "nbformat": 4,
 "nbformat_minor": 2
}
