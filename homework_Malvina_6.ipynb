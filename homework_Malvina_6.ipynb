{
 "cells": [
  {
   "cell_type": "markdown",
   "metadata": {},
   "source": [
    "# 对象和类\n",
    "- 一个学生，一张桌子，一个圆都是对象\n",
    "- 对象是类的一个实例，你可以创建多个对象，创建类的一个实例过程被称为实例化，\n",
    "- 在Python中对象就是实例，而实例就是对象"
   ]
  },
  {
   "cell_type": "markdown",
   "metadata": {},
   "source": [
    "## 定义类\n",
    "class ClassName:\n",
    "\n",
    "    do something\n",
    "    \n",
    "- class 类的表示与def 一样\n",
    "- 类名最好使用驼峰式\n",
    "- 在Python2中类是需要继承基类object的，在Python中默认继承，可写可不写\n",
    "- 可以将普通代码理解为皮肤，而函数可以理解为内衣，那么类可以理解为外套"
   ]
  },
  {
   "cell_type": "code",
   "execution_count": null,
   "metadata": {},
   "outputs": [],
   "source": [
    "#python\n",
    "class ClassName(object):\n",
    "    pass"
   ]
  },
  {
   "cell_type": "code",
   "execution_count": null,
   "metadata": {},
   "outputs": [],
   "source": [
    "#python3\n",
    "class className():\n",
    "    pass"
   ]
  },
  {
   "cell_type": "markdown",
   "metadata": {},
   "source": [
    "## 定义一个不含初始化__init__的简单类\n",
    "class ClassName:\n",
    "\n",
    "    joker = “Home”\n",
    "    \n",
    "    def func():\n",
    "        print('Worker')\n",
    "    \n",
    "- 尽量少使用"
   ]
  },
  {
   "cell_type": "code",
   "execution_count": 5,
   "metadata": {},
   "outputs": [],
   "source": [
    "class className():\n",
    "    joker = \"Home\"\n",
    "    def func():\n",
    "        print('worker')"
   ]
  },
  {
   "cell_type": "code",
   "execution_count": 4,
   "metadata": {
    "scrolled": true
   },
   "outputs": [
    {
     "data": {
      "text/plain": [
       "'Home'"
      ]
     },
     "execution_count": 4,
     "metadata": {},
     "output_type": "execute_result"
    }
   ],
   "source": [
    "className.joker#用.调用类里面的东西(调用类里面的函数或者类里面的变量)"
   ]
  },
  {
   "cell_type": "code",
   "execution_count": 6,
   "metadata": {},
   "outputs": [
    {
     "name": "stdout",
     "output_type": "stream",
     "text": [
      "worker\n"
     ]
    }
   ],
   "source": [
    "#实际上，我们之前所用的“.”调用，就是调用类中的函数或者变量\n",
    "className.func()"
   ]
  },
  {
   "cell_type": "code",
   "execution_count": null,
   "metadata": {},
   "outputs": [],
   "source": [
    "#Python播放音乐\n",
    "#pip install -i https://pypi.tuna.tsinghua.edu.cn/simple some-package"
   ]
  },
  {
   "cell_type": "code",
   "execution_count": 15,
   "metadata": {},
   "outputs": [
    {
     "ename": "ModuleNotFoundError",
     "evalue": "No module named 'pygame'",
     "output_type": "error",
     "traceback": [
      "\u001b[1;31m---------------------------------------------------------------------------\u001b[0m",
      "\u001b[1;31mModuleNotFoundError\u001b[0m                       Traceback (most recent call last)",
      "\u001b[1;32m<ipython-input-15-99883c9c228c>\u001b[0m in \u001b[0;36m<module>\u001b[1;34m()\u001b[0m\n\u001b[0;32m      1\u001b[0m \u001b[1;31m#python\u001b[0m\u001b[1;33m\u001b[0m\u001b[1;33m\u001b[0m\u001b[0m\n\u001b[1;32m----> 2\u001b[1;33m \u001b[1;32mimport\u001b[0m \u001b[0mpygame\u001b[0m\u001b[1;33m\u001b[0m\u001b[0m\n\u001b[0m\u001b[0;32m      3\u001b[0m \u001b[1;32mclass\u001b[0m \u001b[0mMusic\u001b[0m\u001b[1;33m:\u001b[0m\u001b[1;33m\u001b[0m\u001b[0m\n\u001b[0;32m      4\u001b[0m     \u001b[1;32mdef\u001b[0m \u001b[0mplay\u001b[0m\u001b[1;33m(\u001b[0m\u001b[1;33m)\u001b[0m\u001b[1;33m:\u001b[0m\u001b[1;33m\u001b[0m\u001b[0m\n\u001b[0;32m      5\u001b[0m         \u001b[0mpygame\u001b[0m\u001b[1;33m.\u001b[0m\u001b[0mmixer\u001b[0m\u001b[1;33m.\u001b[0m\u001b[0minit\u001b[0m\u001b[1;33m(\u001b[0m\u001b[1;33m)\u001b[0m\u001b[1;33m\u001b[0m\u001b[0m\n",
      "\u001b[1;31mModuleNotFoundError\u001b[0m: No module named 'pygame'"
     ]
    }
   ],
   "source": [
    "#python\n",
    "import pygame\n",
    "class Music:\n",
    "    def play():\n",
    "        pygame.mixer.init()\n",
    "        print(\"播放音乐2\")\n",
    "        track1=pygame.mixer.music.load(\"../Python/1.mp3\")\n",
    "        pygame.mixer.music.play()\n"
   ]
  },
  {
   "cell_type": "code",
   "execution_count": null,
   "metadata": {},
   "outputs": [],
   "source": [
    "Music.play()"
   ]
  },
  {
   "cell_type": "code",
   "execution_count": null,
   "metadata": {},
   "outputs": [],
   "source": [
    "bofang.music()"
   ]
  },
  {
   "cell_type": "code",
   "execution_count": 31,
   "metadata": {},
   "outputs": [],
   "source": [
    "import math\n",
    "class Class_name:\n",
    "    def __init__(shu):\n",
    "        shu.lxn = 2\n",
    "    def erci(shu):\n",
    "        #print()\n",
    "        print(shu.lxn**2)\n",
    "    def sanci(shu):\n",
    "        print(shu.lxn**3)\n",
    "    def cha(shu):\n",
    "        print(shu.lxn**3-shu.lxn**2)"
   ]
  },
  {
   "cell_type": "code",
   "execution_count": 32,
   "metadata": {},
   "outputs": [
    {
     "name": "stdout",
     "output_type": "stream",
     "text": [
      "4\n",
      "8\n",
      "4\n"
     ]
    }
   ],
   "source": [
    "Class_name().erci()\n",
    "Class_name().sanci()\n",
    "Class_name().cha()"
   ]
  },
  {
   "cell_type": "code",
   "execution_count": 52,
   "metadata": {},
   "outputs": [],
   "source": [
    "#第一种方法\n",
    "class Joker:\n",
    "    def __init__(self):\n",
    "        self.haha = 10\n",
    "        self.heiehi = 10\n",
    "        self.m = None\n",
    "        self.n = None\n",
    "    def pow2(self): \n",
    "        self.m = self.haha ** 2\n",
    "        print(self.m)\n",
    "    def pow3(self): \n",
    "        self.n = self.haha ** 3\n",
    "        print(self.n)\n",
    "    def minus(self): \n",
    "        print(self.n-self.m)\n",
    "        "
   ]
  },
  {
   "cell_type": "code",
   "execution_count": 53,
   "metadata": {},
   "outputs": [
    {
     "name": "stdout",
     "output_type": "stream",
     "text": [
      "100\n",
      "1000\n",
      "900\n"
     ]
    }
   ],
   "source": [
    "#创建一个实例\n",
    "A = Joker()   #A就相当于初始后的joker（）\n",
    "A.pow2()\n",
    "A.pow3()\n",
    "A.minus()"
   ]
  },
  {
   "cell_type": "code",
   "execution_count": 48,
   "metadata": {},
   "outputs": [],
   "source": [
    "#第二种方法\n",
    "class Joker:\n",
    "    def __init__(self):\n",
    "        self.haha = 10\n",
    "        self.heiehi = 10\n",
    "        self.m = None\n",
    "        self.n = None\n",
    "    def pow2(self): \n",
    "        self.m = self.haha ** 2\n",
    "        print(self.m)\n",
    "    def pow3(self): \n",
    "        self.n = self.haha ** 3\n",
    "        print(self.n)\n",
    "    def minus(self):\n",
    "        self.pow2()\n",
    "        self.pow3()\n",
    "        print(self.n-self.m)"
   ]
  },
  {
   "cell_type": "code",
   "execution_count": 49,
   "metadata": {},
   "outputs": [
    {
     "name": "stdout",
     "output_type": "stream",
     "text": [
      "100\n",
      "1000\n",
      "900\n"
     ]
    }
   ],
   "source": [
    "Joker().minus()"
   ]
  },
  {
   "cell_type": "code",
   "execution_count": 45,
   "metadata": {},
   "outputs": [],
   "source": [
    "#第三种方法\n",
    "class Joker:\n",
    "    def __init__(self):\n",
    "        self.haha = 10\n",
    "        self.heiehi = 10\n",
    "        #self.m = None\n",
    "        #self.n = None\n",
    "    def pow2(self): \n",
    "        m = self.haha ** 2\n",
    "        return m\n",
    "    def pow3(self): \n",
    "        n = self.haha ** 3\n",
    "        return n\n",
    "    def minus(self):\n",
    "        m1 = self.pow2()\n",
    "        n1 = self.pow3()\n",
    "        print(n1 - m1)"
   ]
  },
  {
   "cell_type": "code",
   "execution_count": 46,
   "metadata": {},
   "outputs": [
    {
     "name": "stdout",
     "output_type": "stream",
     "text": [
      "900\n"
     ]
    }
   ],
   "source": [
    "# Joker().pow2()\n",
    "# Joker().pow3()\n",
    "Joker().minus()"
   ]
  },
  {
   "cell_type": "code",
   "execution_count": 54,
   "metadata": {},
   "outputs": [],
   "source": [
    "#传参,动态传参，设置一个共享变量\n",
    "class Joker:\n",
    "    def __init__(self,num1,num2):\n",
    "        self.haha = num1\n",
    "        self.heiehi = num2\n",
    "        #self.m = None\n",
    "        #self.n = None\n",
    "    def pow2(self): \n",
    "        m = self.haha ** 2\n",
    "        return m\n",
    "    def pow3(self): \n",
    "        n = self.haha ** 3\n",
    "        return n\n",
    "    def minus(self):\n",
    "        m1 = self.pow2()\n",
    "        n1 = self.pow3()\n",
    "        print(n1 - m1)"
   ]
  },
  {
   "cell_type": "code",
   "execution_count": 55,
   "metadata": {
    "scrolled": true
   },
   "outputs": [
    {
     "name": "stdout",
     "output_type": "stream",
     "text": [
      "900\n"
     ]
    }
   ],
   "source": [
    "Joker(num1 = 10,num2 = 10).minus()"
   ]
  },
  {
   "cell_type": "code",
   "execution_count": 56,
   "metadata": {},
   "outputs": [],
   "source": [
    "class Joker:\n",
    "    def __init__(self,num1,num2):\n",
    "        self.haha = num1\n",
    "        self.heiehi = num2\n",
    "        #self.m = None\n",
    "        #self.n = None\n",
    "    def pow2(self,pow_num): #pow_num是自己私有的，不是全局的\n",
    "        m = self.haha ** 2 + pow_num\n",
    "        return m\n",
    "    def pow3(self): \n",
    "        n = self.haha ** 3\n",
    "        return n\n",
    "    def minus(self):\n",
    "        m1 = self.pow2()\n",
    "        n1 = self.pow3()\n",
    "        print(n1 - m1)"
   ]
  },
  {
   "cell_type": "code",
   "execution_count": 57,
   "metadata": {},
   "outputs": [
    {
     "data": {
      "text/plain": [
       "100"
      ]
     },
     "execution_count": 57,
     "metadata": {},
     "output_type": "execute_result"
    }
   ],
   "source": [
    "Joker(num1 = 10,num2 = 10).pow2(pow_num = 0)"
   ]
  },
  {
   "cell_type": "code",
   "execution_count": 75,
   "metadata": {},
   "outputs": [],
   "source": [
    "#随机数，按照最小排列和最大排列\n",
    "import random\n",
    "class Joker:\n",
    "    def __init__(self):\n",
    "        self.num1 = random.randint(1,10)\n",
    "        self.num2 = random.randint(1,10)\n",
    "        print(num1,num2)\n",
    "    def minn(self):\n",
    "        self.min(num1,num2))\n",
    "    def maxx(self):\n",
    "        self.max(num1,num2)"
   ]
  },
  {
   "cell_type": "code",
   "execution_count": 77,
   "metadata": {},
   "outputs": [
    {
     "ename": "NameError",
     "evalue": "name 'num1' is not defined",
     "output_type": "error",
     "traceback": [
      "\u001b[1;31m---------------------------------------------------------------------------\u001b[0m",
      "\u001b[1;31mNameError\u001b[0m                                 Traceback (most recent call last)",
      "\u001b[1;32m<ipython-input-77-e37167bd53d8>\u001b[0m in \u001b[0;36m<module>\u001b[1;34m()\u001b[0m\n\u001b[1;32m----> 1\u001b[1;33m \u001b[0mJoker\u001b[0m\u001b[1;33m(\u001b[0m\u001b[1;33m)\u001b[0m\u001b[1;33m.\u001b[0m\u001b[0mminn\u001b[0m\u001b[1;33m(\u001b[0m\u001b[1;33m)\u001b[0m\u001b[1;33m\u001b[0m\u001b[0m\n\u001b[0m",
      "\u001b[1;32m<ipython-input-75-088d731ae84c>\u001b[0m in \u001b[0;36m__init__\u001b[1;34m(self)\u001b[0m\n\u001b[0;32m      4\u001b[0m         \u001b[0mself\u001b[0m\u001b[1;33m.\u001b[0m\u001b[0mnum1\u001b[0m \u001b[1;33m=\u001b[0m \u001b[0mrandom\u001b[0m\u001b[1;33m.\u001b[0m\u001b[0mrandint\u001b[0m\u001b[1;33m(\u001b[0m\u001b[1;36m1\u001b[0m\u001b[1;33m,\u001b[0m\u001b[1;36m10\u001b[0m\u001b[1;33m)\u001b[0m\u001b[1;33m\u001b[0m\u001b[0m\n\u001b[0;32m      5\u001b[0m         \u001b[0mself\u001b[0m\u001b[1;33m.\u001b[0m\u001b[0mnum2\u001b[0m \u001b[1;33m=\u001b[0m \u001b[0mrandom\u001b[0m\u001b[1;33m.\u001b[0m\u001b[0mrandint\u001b[0m\u001b[1;33m(\u001b[0m\u001b[1;36m1\u001b[0m\u001b[1;33m,\u001b[0m\u001b[1;36m10\u001b[0m\u001b[1;33m)\u001b[0m\u001b[1;33m\u001b[0m\u001b[0m\n\u001b[1;32m----> 6\u001b[1;33m         \u001b[0mprint\u001b[0m\u001b[1;33m(\u001b[0m\u001b[0mnum1\u001b[0m\u001b[1;33m,\u001b[0m\u001b[0mnum2\u001b[0m\u001b[1;33m)\u001b[0m\u001b[1;33m\u001b[0m\u001b[0m\n\u001b[0m\u001b[0;32m      7\u001b[0m     \u001b[1;32mdef\u001b[0m \u001b[0mminn\u001b[0m\u001b[1;33m(\u001b[0m\u001b[0mself\u001b[0m\u001b[1;33m)\u001b[0m\u001b[1;33m:\u001b[0m\u001b[1;33m\u001b[0m\u001b[0m\n\u001b[0;32m      8\u001b[0m         \u001b[0mprint\u001b[0m\u001b[1;33m(\u001b[0m\u001b[0mself\u001b[0m\u001b[1;33m.\u001b[0m\u001b[0mmin\u001b[0m\u001b[1;33m(\u001b[0m\u001b[0mnum1\u001b[0m\u001b[1;33m,\u001b[0m\u001b[0mnum2\u001b[0m\u001b[1;33m)\u001b[0m\u001b[1;33m)\u001b[0m\u001b[1;33m\u001b[0m\u001b[0m\n",
      "\u001b[1;31mNameError\u001b[0m: name 'num1' is not defined"
     ]
    }
   ],
   "source": [
    "Joker().minn()"
   ]
  },
  {
   "cell_type": "markdown",
   "metadata": {},
   "source": [
    "## 定义一个标准类\n",
    "- __init__ 代表初始化，可以初始化任何动作\n",
    "- 此时类调用要使用()，其中（）可以理解为开始初始化\n",
    "- 初始化内的元素，类中其他的函数可以共享\n",
    "![](../Photo/85.png)"
   ]
  },
  {
   "cell_type": "markdown",
   "metadata": {},
   "source": [
    "- Circle 和 className_ 的第一个区别有 __init__ 这个函数\n",
    "- 。。。。   第二个区别，类中的每一个函数都有self的这个“参数”"
   ]
  },
  {
   "cell_type": "code",
   "execution_count": 84,
   "metadata": {},
   "outputs": [],
   "source": [
    "class mayun:\n",
    "    def __init__(self):\n",
    "        self.caichan = 10000000000\n",
    "    def showmayun(self):\n",
    "        print(self.caichan)"
   ]
  },
  {
   "cell_type": "code",
   "execution_count": null,
   "metadata": {},
   "outputs": [],
   "source": [
    "class mahuateng:\n",
    "    def __init__(self):\n",
    "        self.mahauteng=100\n",
    "    def showmahuateng(self):\n",
    "        print(self.mahuateng)"
   ]
  },
  {
   "cell_type": "code",
   "execution_count": 85,
   "metadata": {},
   "outputs": [],
   "source": [
    "class huwang(mayun,mahuateng):#告诉python我要继承父类\n",
    "    def __init__(self):\n",
    "        mayun.__init__(self)#真正的打上印记，我要继承父类\n",
    "        self.hu = 'wang'\n",
    "    def showhuwang(self):\n",
    "        #print(self.hu)\n",
    "        print(self.caichan)\n",
    "        #print(self.showmayun())\n",
    "        print(self.mahuateng)"
   ]
  },
  {
   "cell_type": "code",
   "execution_count": 86,
   "metadata": {},
   "outputs": [
    {
     "name": "stdout",
     "output_type": "stream",
     "text": [
      "wang\n",
      "10000000000\n",
      "10000000000\n",
      "None\n"
     ]
    }
   ],
   "source": [
    "huwang().showhuwang()"
   ]
  },
  {
   "cell_type": "code",
   "execution_count": 81,
   "metadata": {},
   "outputs": [],
   "source": [
    "class shu:\n",
    "     def __init__(self):\n",
    "        self.n = 10\n",
    "        self.m = 10"
   ]
  },
  {
   "cell_type": "code",
   "execution_count": 82,
   "metadata": {},
   "outputs": [],
   "source": [
    "class huwang(shu):#告诉python我要继承父类\n",
    "    def __init__(self):\n",
    "        shu.__init__(self)#真正的打上印记，我要继承父类\n",
    "        #self.hu = 'wang'\n",
    "    def pow2(self):\n",
    "        print(self.n**2)\n",
    "    def pow3(self):\n",
    "        print(self.n**3)\n",
    "    def jian(self):\n",
    "        print(self.n**3-self.n**2)"
   ]
  },
  {
   "cell_type": "code",
   "execution_count": 83,
   "metadata": {},
   "outputs": [
    {
     "name": "stdout",
     "output_type": "stream",
     "text": [
      "900\n"
     ]
    }
   ],
   "source": [
    "huwang().jian()"
   ]
  },
  {
   "cell_type": "code",
   "execution_count": 115,
   "metadata": {},
   "outputs": [],
   "source": [
    "class get_pow2_pow3:\n",
    "    def __init__(self,num1,num2):\n",
    "        self.num1 = num1\n",
    "        self.num2 = num2\n",
    "        self.res1 = None\n",
    "        self.res2 = None\n",
    "    def pow2_pow3(self):\n",
    "        self.res1 = self.num1 ** 2\n",
    "        self.res2 = self.num2 ** 3"
   ]
  },
  {
   "cell_type": "code",
   "execution_count": 116,
   "metadata": {},
   "outputs": [],
   "source": [
    "class chazhi(get_pow2_pow3):\n",
    "    def __init__(self,num1,num2):\n",
    "        get_pow2_pow3.__init__(self,num1,num2)\n",
    "    def cz(self):\n",
    "        print(self.res1-self.res2)   "
   ]
  },
  {
   "cell_type": "code",
   "execution_count": 117,
   "metadata": {},
   "outputs": [
    {
     "name": "stdout",
     "output_type": "stream",
     "text": [
      "-900\n"
     ]
    }
   ],
   "source": [
    "A = chazhi(10,10)\n",
    "A.pow2_pow3()\n",
    "A.cz()"
   ]
  },
  {
   "cell_type": "code",
   "execution_count": 119,
   "metadata": {},
   "outputs": [],
   "source": [
    "#类的继承\n",
    "class get_pow2:\n",
    "    def __init__(self,num1):\n",
    "        self.num1 = num1\n",
    "        self.res1 = None\n",
    "    def pow2(self):\n",
    "        self.res1 = self.num1 ** 2"
   ]
  },
  {
   "cell_type": "code",
   "execution_count": 125,
   "metadata": {},
   "outputs": [],
   "source": [
    "class get_pow3():\n",
    "    def __init__(self,num2):\n",
    "        self.num2 = num2\n",
    "        self.res2 = None\n",
    "    def pow3(self):\n",
    "        self.res2 = self.num2 ** 3"
   ]
  },
  {
   "cell_type": "code",
   "execution_count": 126,
   "metadata": {},
   "outputs": [],
   "source": [
    "class chazhi(get_pow2,get_pow3):\n",
    "    def __init__(self,num1,num2):\n",
    "        get_pow2.__init__(self,num1)\n",
    "        get_pow3.__init__(self,num2)\n",
    "    def cz(self):\n",
    "        print(self.res1-self.res2)   "
   ]
  },
  {
   "cell_type": "code",
   "execution_count": 127,
   "metadata": {},
   "outputs": [
    {
     "name": "stdout",
     "output_type": "stream",
     "text": [
      "-900\n"
     ]
    }
   ],
   "source": [
    "A =chazhi(10,10)\n",
    "A.pow2()\n",
    "A.pow3()\n",
    "A.cz()"
   ]
  },
  {
   "cell_type": "code",
   "execution_count": null,
   "metadata": {},
   "outputs": [],
   "source": [
    "class Joker:\n",
    "    def __init__(self):\n",
    "        self.haha = 10\n",
    "        self.lala = 10\n",
    "#         self.m = None\n",
    "#         self.n = None\n",
    "    def pow2(self):\n",
    "        m = self.haha ** 2\n",
    "        return m\n",
    "    def pow3(self):\n",
    "        n = self.lala ** 3\n",
    "        return n\n",
    "    def miuns(self):\n",
    "        m1 = self.pow2()\n",
    "        n1 = self.pow3()\n",
    "        print(n1- m1)"
   ]
  },
  {
   "cell_type": "code",
   "execution_count": null,
   "metadata": {},
   "outputs": [],
   "source": [
    "# 创建一个实例\n",
    "A = Joker()  # A就相当于初始完毕后的Joker\n",
    "A.pow2()  # !=  Joker().pow2()\n",
    "A.pow3()\n",
    "A.miuns()"
   ]
  },
  {
   "cell_type": "code",
   "execution_count": null,
   "metadata": {},
   "outputs": [],
   "source": [
    "Joker().miuns()"
   ]
  },
  {
   "cell_type": "code",
   "execution_count": 112,
   "metadata": {},
   "outputs": [],
   "source": [
    "class get_pow2_pow3:\n",
    "    def __init__(self,num1,num2):\n",
    "        self.num1 = num1\n",
    "        self.num2 = num2\n",
    "        self.res1 = None\n",
    "        self.res2 = None\n",
    "    def pow2_pow3(self):\n",
    "        self.res1 = self.num1 ** 2\n",
    "        self.res2 = self.num2 ** 3"
   ]
  },
  {
   "cell_type": "code",
   "execution_count": 113,
   "metadata": {},
   "outputs": [],
   "source": [
    "class chazhi(get_pow2_pow3):\n",
    "    def __init__(self,num1,num2):\n",
    "        get_pow2_pow3.__init__(self,num1,num2)\n",
    "    def cz(self):\n",
    "        print(self.res1 - self.res2)"
   ]
  },
  {
   "cell_type": "code",
   "execution_count": 114,
   "metadata": {},
   "outputs": [
    {
     "name": "stdout",
     "output_type": "stream",
     "text": [
      "-990000\n"
     ]
    }
   ],
   "source": [
    "B = chazhi(100,100)\n",
    "B.pow2_pow3()\n",
    "B.cz()"
   ]
  },
  {
   "cell_type": "code",
   "execution_count": 109,
   "metadata": {},
   "outputs": [],
   "source": [
    "class get_pow2_pow3:\n",
    "    def __init__(self,num1,num2):\n",
    "        self.num1 = num1\n",
    "        self.num2 = num2\n",
    "    def pow2_pow3(self):\n",
    "        res1 = self.num1 ** 2\n",
    "        res2 = self.num2 ** 3\n",
    "        return res1,res2"
   ]
  },
  {
   "cell_type": "code",
   "execution_count": 110,
   "metadata": {},
   "outputs": [],
   "source": [
    "class chazhi(get_pow2_pow3):\n",
    "    def __init__(self,num1,num2):\n",
    "        get_pow2_pow3.__init__(self,num1,num2)\n",
    "    def cz(self):\n",
    "        RES1,RES2 = self.pow2_pow3()\n",
    "        print(RES1 - RES2)"
   ]
  },
  {
   "cell_type": "code",
   "execution_count": 111,
   "metadata": {},
   "outputs": [
    {
     "name": "stdout",
     "output_type": "stream",
     "text": [
      "-900\n"
     ]
    }
   ],
   "source": [
    "A = chazhi(10,10)\n",
    "A.cz()"
   ]
  },
  {
   "cell_type": "markdown",
   "metadata": {},
   "source": [
    "## 何为self？\n",
    "- self 是指向对象本身的参数\n",
    "- self 只是一个命名规则，其实可以改变的，但是我们约定俗成的是self，也便于理解\n",
    "- 使用了self就可以访问类中定义的成员\n",
    "<img src=\"../Photo/86.png\"></img>"
   ]
  },
  {
   "cell_type": "markdown",
   "metadata": {},
   "source": [
    "## 使用类 Cirlcle"
   ]
  },
  {
   "cell_type": "markdown",
   "metadata": {},
   "source": [
    "## 类的传参\n",
    "- class ClassName:\n",
    "    \n",
    "        def __init__(self, para1,para2...)：\n",
    "            \n",
    "            self.para1 = para1\n",
    "            \n",
    "            self.para2 = para2"
   ]
  },
  {
   "cell_type": "markdown",
   "metadata": {},
   "source": [
    "## EP:\n",
    "- A：定义一个类，类中含有两个功能：\n",
    "    - 1、计算随机数的最大值\n",
    "    - 2、计算随机数的最小值\n",
    "- B：定义一个类，（类中函数的嵌套使用）\n",
    "    - 1、第一个函数的功能为：输入一个数字\n",
    "    - 2、第二个函数的功能为：使用第一个函数中得到的数字进行平方处理\n",
    "    - 3、第三个函数的功能为：得到平方处理后的数字 - 原来输入的数字，并打印结果"
   ]
  },
  {
   "cell_type": "markdown",
   "metadata": {},
   "source": [
    "## 类的继承\n",
    "- 类的单继承\n",
    "- 类的多继承\n",
    "- 继承标识\n",
    ">  class SonClass(FatherClass):\n",
    "            \n",
    "            def __init__(self):\n",
    "            \n",
    "                FatherClass.__init__(self)"
   ]
  },
  {
   "cell_type": "markdown",
   "metadata": {},
   "source": [
    "## 私有数据域(私有变量，或者私有函数)\n",
    "- 在Python中 变量名或者函数名使用双下划线代表私有  \\__Joker,   def \\__Joker():\n",
    "- 私有数据域不可继承\n",
    "- 私有数据域强制继承   \\__dir__()"
   ]
  },
  {
   "cell_type": "markdown",
   "metadata": {},
   "source": [
    "![](../Photo/87.png)"
   ]
  },
  {
   "cell_type": "markdown",
   "metadata": {},
   "source": [
    "## EP:\n",
    "![](../Photo/88.png)\n",
    "![](../Photo/89.png)\n",
    "![](../Photo/90.png)\n"
   ]
  },
  {
   "cell_type": "markdown",
   "metadata": {},
   "source": [
    "## 类的其他\n",
    "- 类的封装\n",
    "    - 实际上就是将一类功能放在一起，方便未来进行管理\n",
    "- 类的继承（上面已经讲过）\n",
    "- 类的多态\n",
    "    - 包括装饰器：将放在以后处理高级类中教\n",
    "    - 装饰器的好处：当许多类中的函数需要使用同一个功能的时候，那么使用装饰器就会方便许多\n",
    "    - 装饰器是有固定的写法\n",
    "        - 其包括普通装饰器与带参装饰器"
   ]
  },
  {
   "cell_type": "markdown",
   "metadata": {},
   "source": [
    "# Homewor\n",
    "## UML类图可以不用画\n",
    "## UML 实际上就是一个思维图\n",
    "- 1\n",
    "![](../Photo/91.png)"
   ]
  },
  {
   "cell_type": "code",
   "execution_count": 160,
   "metadata": {},
   "outputs": [],
   "source": [
    "class Rectangle():\n",
    "    def __init__(self, width = 1, height = 2):\n",
    "        self.width = width\n",
    "        self.height = height\n",
    "    def getwh(self):\n",
    "        return self.width, self.height\n",
    "    def getArea(self):\n",
    "        return self.width * self.height\n",
    "    def getPerimeter(self):\n",
    "        return 2*(self.width + self.height)"
   ]
  },
  {
   "cell_type": "code",
   "execution_count": 161,
   "metadata": {},
   "outputs": [
    {
     "name": "stdout",
     "output_type": "stream",
     "text": [
      "宽为4.00，高为40.00的长方形的面积为160.00，周长为88.00\n"
     ]
    }
   ],
   "source": [
    "Rec1 = Rectangle(4, 40)\n",
    "width1, height1 = Rec1.getwh()\n",
    "area1 = Rec1.getArea()\n",
    "perim1 = Rec1.getPerimeter()\n",
    "print('宽为%.2f，高为%.2f的长方形的面积为%.2f，周长为%.2f' %(width1, height1, area1, perim1))"
   ]
  },
  {
   "cell_type": "code",
   "execution_count": 162,
   "metadata": {},
   "outputs": [
    {
     "name": "stdout",
     "output_type": "stream",
     "text": [
      "宽为3.50，高为35.70的长方形的面积为124.95，周长为78.40\n"
     ]
    }
   ],
   "source": [
    "Rec1 = Rectangle(3.5, 35.7)\n",
    "width1, height1 = Rec1.getwh()\n",
    "area1 = Rec1.getArea()\n",
    "perim1 = Rec1.getPerimeter()\n",
    "print('宽为%.2f，高为%.2f的长方形的面积为%.2f，周长为%.2f' %(width1, height1, area1, perim1))"
   ]
  },
  {
   "cell_type": "markdown",
   "metadata": {},
   "source": [
    "- 2\n",
    "![](../Photo/92.png)"
   ]
  },
  {
   "cell_type": "markdown",
   "metadata": {},
   "source": [
    "- 3\n",
    "![](../Photo/93.png)"
   ]
  },
  {
   "cell_type": "code",
   "execution_count": 163,
   "metadata": {},
   "outputs": [],
   "source": [
    "class Fan():\n",
    "    def __init__(self, speed = 1, on = False, radius = 5, color = 'blue'):\n",
    "        if speed == 1:\n",
    "            self.__speed = 'SLOW'\n",
    "        elif speed == 2:\n",
    "            self.__speed = 'MEDIUM'\n",
    "        else:\n",
    "            self.__speed = 'FAST'      \n",
    "        self.__on = on\n",
    "        self.__radius = radius \n",
    "        self.__color = color\n",
    "    \n",
    "    def getSpeed(self):\n",
    "        return self.__speed\n",
    "    def getOn(self):\n",
    "        return self.__on\n",
    "    def getRadius(self):\n",
    "        return self.__radius\n",
    "    def getColor(self):\n",
    "        return self.__color\n",
    "    def changeSpeed(self, speed):\n",
    "        if speed == 1:\n",
    "            self.__speed = 'SLOW'\n",
    "        elif speed == 2:\n",
    "            self.__speed = 'MEDIUM'\n",
    "        else:\n",
    "            self.__speed = 'FAST'\n",
    "    def changeOn(self, on):\n",
    "        self.__on = on\n",
    "    def changeRadius(self, radius):\n",
    "        self.__radius = radius\n",
    "    def changeColor(self, color):\n",
    "        self.__color = color"
   ]
  },
  {
   "cell_type": "code",
   "execution_count": 164,
   "metadata": {},
   "outputs": [
    {
     "name": "stdout",
     "output_type": "stream",
     "text": [
      "The speed is  FAST\n",
      "The radius is  10\n",
      "The Color is  yellow\n",
      "The on is  True\n"
     ]
    }
   ],
   "source": [
    "fan1 = Fan(3, True, 10, 'yellow')\n",
    "print('The speed is ', fan1.getSpeed())\n",
    "print('The radius is ', fan1.getRadius())\n",
    "print('The Color is ', fan1.getColor())\n",
    "print('The on is ', fan1.getOn())"
   ]
  },
  {
   "cell_type": "code",
   "execution_count": 165,
   "metadata": {},
   "outputs": [
    {
     "name": "stdout",
     "output_type": "stream",
     "text": [
      "The speed is  MEDIUM\n",
      "The radius is  5\n",
      "The Color is  red\n",
      "The on is  False\n"
     ]
    }
   ],
   "source": [
    "fan2 = Fan()\n",
    "fan2.changeSpeed(2)\n",
    "fan2.changeOn(False)\n",
    "fan2.changeRadius(5)\n",
    "fan2.changeColor('red')\n",
    "print('The speed is ', fan2.getSpeed())\n",
    "print('The radius is ', fan2.getRadius())\n",
    "print('The Color is ', fan2.getColor())\n",
    "print('The on is ', fan2.getOn())"
   ]
  },
  {
   "cell_type": "markdown",
   "metadata": {},
   "source": [
    "- 4\n",
    "![](../Photo/94.png)\n",
    "![](../Photo/95.png)"
   ]
  },
  {
   "cell_type": "code",
   "execution_count": 167,
   "metadata": {},
   "outputs": [],
   "source": [
    "import math\n",
    "\n",
    "class RegularPolygon():\n",
    "    def __init__(self, n=3, side=1, x=0, y=0):\n",
    "        self.__n = n\n",
    "        self.__side = side\n",
    "        self.x = x\n",
    "        self.y = y\n",
    "    def getN(self):\n",
    "        return self.__n\n",
    "    def getSide(self):\n",
    "        return self.__side\n",
    "    def getX(self):\n",
    "        return self.__x\n",
    "    def getY(self):\n",
    "        return self.__y\n",
    "    def setN(self, n):\n",
    "        self.__n = n\n",
    "    def setSide(self, side):\n",
    "        self.__side = side\n",
    "    def setX(self, x):\n",
    "        self.__x = x\n",
    "    def setY(self, y):\n",
    "        self.__y = y\n",
    "    def getPerimeter(self):\n",
    "        return self.__n * self.__side\n",
    "    def getArea(self):\n",
    "        area = self.__n * (self.__side ** 2) / (4 * math.tan(math.pi/self.__n))\n",
    "        return area\n",
    "        "
   ]
  },
  {
   "cell_type": "code",
   "execution_count": 168,
   "metadata": {},
   "outputs": [
    {
     "name": "stdout",
     "output_type": "stream",
     "text": [
      "边长为1的正3边形的周长为3.00，面积为0.43\n",
      "边长为4的正6边形的周长为24.00，面积为41.57\n",
      "边长为4的正10边形的周长为40.00，面积为123.11\n"
     ]
    }
   ],
   "source": [
    "regu1 = RegularPolygon()\n",
    "regu2 = RegularPolygon(6, 4)\n",
    "regu3 = RegularPolygon(10, 4, 5.6, 7.8)\n",
    "print('边长为%d的正%d边形的周长为%.2f，面积为%.2f' \\\n",
    "      %(regu1.getSide(), regu1.getN(), regu1.getPerimeter(), regu1.getArea()))\n",
    "print('边长为%d的正%d边形的周长为%.2f，面积为%.2f' \\\n",
    "      %(regu2.getSide(), regu2.getN(), regu2.getPerimeter(), regu2.getArea()))\n",
    "print('边长为%d的正%d边形的周长为%.2f，面积为%.2f' \\\n",
    "      %(regu3.getSide(), regu3.getN(), regu3.getPerimeter(), regu3.getArea()))"
   ]
  },
  {
   "cell_type": "markdown",
   "metadata": {},
   "source": [
    "- 5\n",
    "![](../Photo/96.png)"
   ]
  },
  {
   "cell_type": "code",
   "execution_count": 169,
   "metadata": {},
   "outputs": [],
   "source": [
    "class LinearEquation():\n",
    "    def __init__(self, a, b, c, d, e, f):\n",
    "        self.__a = a\n",
    "        self.__b = b\n",
    "        self.__c = c\n",
    "        self.__d = d\n",
    "        self.__e = e\n",
    "        self.__f = f\n",
    "    def getA(self):\n",
    "        return self.__a\n",
    "    def getB(self):\n",
    "        return self.__b\n",
    "    def getC(self):\n",
    "        return self.__c\n",
    "    def getD(self):\n",
    "        return self.__d\n",
    "    def getE(self):\n",
    "        return self.__e\n",
    "    def getF(self):\n",
    "        return self.__f\n",
    "    def isSolvable(self):\n",
    "        if self.__a * self.__d != self.__b * self.__c:\n",
    "            return True\n",
    "        else:\n",
    "            return False\n",
    "    def getX(self):\n",
    "        return (self.__e*self.__d - self.__b*self.__f)/(self.__a * self.__d - self.__b * self.__c)\n",
    "    def getY(self):\n",
    "        return (self.__a*self.__f - self.__e*self.__c)/(self.__a * self.__d - self.__b * self.__c)\n",
    "        "
   ]
  },
  {
   "cell_type": "code",
   "execution_count": null,
   "metadata": {},
   "outputs": [],
   "source": [
    "def main():\n",
    "    a = eval(input('Enter a:'))\n",
    "    b = eval(input('Enter b:'))\n",
    "    c = eval(input('Enter c:'))\n",
    "    d = eval(input('Enter d:'))\n",
    "    e = eval(input('Enter e:'))\n",
    "    f = eval(input('Enter f:'))\n",
    "    equation = LinearEquation(a, b, c, d, e, f)\n",
    "    if equation.isSolvable() == True:\n",
    "        print('X = %.2f, Y = %.2f' %(equation.getX(), equation.getY()))\n",
    "    else:\n",
    "        print('这个方程无解')\n",
    "main()"
   ]
  },
  {
   "cell_type": "markdown",
   "metadata": {},
   "source": [
    "- 6\n",
    "![](../Photo/97.png)"
   ]
  },
  {
   "cell_type": "markdown",
   "metadata": {},
   "source": [
    "- 7\n",
    "![](../Photo/98.png)"
   ]
  }
 ],
 "metadata": {
  "kernelspec": {
   "display_name": "Python 3",
   "language": "python",
   "name": "python3"
  },
  "language_info": {
   "codemirror_mode": {
    "name": "ipython",
    "version": 3
   },
   "file_extension": ".py",
   "mimetype": "text/x-python",
   "name": "python",
   "nbconvert_exporter": "python",
   "pygments_lexer": "ipython3",
   "version": "3.6.4"
  }
 },
 "nbformat": 4,
 "nbformat_minor": 2
}
